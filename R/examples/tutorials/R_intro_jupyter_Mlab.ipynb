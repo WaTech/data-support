{
 "cells": [
  {
   "cell_type": "markdown",
   "metadata": {},
   "source": [
    "# Using R to analyze M-lab data in a Jupyter notebook"
   ]
  },
  {
   "cell_type": "markdown",
   "metadata": {},
   "source": [
    "While the title of this tutorial sounds like a nonsense phrase pulled from a data science word cloud, the combination of these three tools, R, Jupyter notebooks, and M-lab data, provides a powerful and flexible framework for creating and sharing the analysis and visualization of the largest open-source internet speed tests database. \n",
    "\n",
    "What do each of these tools do? \n",
    "\n",
    "R is, formally, an \"enviroment for statistical computing and graphics.\" More casually, it's a programming language containing a huge amount of pre-built statisitics and visualization tools. The R community is huge and the amount of user-developed content (which is almost all of it) is staggering. One of the best introductions to the language is produced by one of the most important contributers, Hadley Wickman. His intro to R book can be found free and digitally here: [R for Data Science](https://tinyurl.com/jay2npr). This tutorial is written in the R language to take advantage of the already-created functions for pulling data from databases, analyzing, and visualizing that data. \n",
    "\n",
    "Next come Jupyter notebooks. These web applications provide an interactive testing grounds for code, a single space for interleaving code and paragraphs of text, and can be easily uploaded to GitHub to share the work you've done. The page you're reading right this very second was written in a Jupyter notebook. One slight complication, Python is the default kernel for Jupyter notebooks, meaning that the vanilla, just out of the box version of Jupyter can't read R code. Fortunately, there's a tutorial explaining how to teach Jupyter to read R: [Jupyter And R Markdown: Notebooks With R](https://www.datacamp.com/community/blog/jupyter-notebook-r). In addition, a good resource for learning the ins and outs of Jupyter notebooks can be found here: [Jupyter Notebook Tutorial: The Definitive Guide](https://www.datacamp.com/community/tutorials/tutorial-jupyter-notebookt)\n",
    "\n",
    "Finally, we have the M-lab project and dataset. M-lab (short for Measurement Lab) is a project for collecting and making available open internet performance data in partnership between New America's Open Technology Institute, Google, Princeton, and others. As full disclosure, they're also my current employer, but I'm going to keep using their data after I leave, and wish I'd known about them for work I've done in the past. The primary method of accesing M-lab's speed data (called NDT, the network diagnostic test) is through Google BigQuery, a SQL-like database language. That's one reason I chose to R here. Hadley Wickham, mentioned above, wrote an R package for interacting with BigQuery directly in R, which reduces the amount of I/O needed in this analysis. A great introduction to M-lab, including a series of quick-start posts and \"calculating common metrics\" cheatsheet can be found here: [BigQuery QuickStart](https://www.measurementlab.net/data/docs/bq/quickstart/) and here:   [Calculating Common Metrics](https://www.measurementlab.net/data/docs/bq/ndtmetrics/), respectively. \n",
    "\n",
    "This tutorial will walk through the basics of using R, working with Jupyter notebooks, and analyzing M-lab data as it relates to a data story published here: on the impact of Hurricane Maria on Puerto Rico's internet speeds. \n",
    "\n",
    "At this point in the process, I'm assuming you have R installed locally on your machine (and preferably RStudio, the most commonly used GUI for the language, as well. These can be found at the CRAN website and the Rtudio website, repectively), that you've created a Jupyter notebook, installed the R kernel (following the instructions at the Jupyter and R link above), and have an M-lab account up and running (following the instructions at the bigQuery link above). \n",
    "\n",
    "A brief R tutorial that explains many of the functions used here can be found [here](https://github.com/m-lab/data-support/blob/dataflow_example/R/examples/tutorials/Brief%20R%20tutorial.ipynb)\n"
   ]
  },
  {
   "cell_type": "markdown",
   "metadata": {},
   "source": [
    "### Loading packages and defining functions\n",
    "Packages are what make R shine. They contain the user-created functions that make R more versatile and flexible than other languages, at least in my opinion, which I agree with. This first cell uses the function \"library\" to load (the \"proper\" word is attach, but that isn't tremendously important) the packages that contain the sweet, sweet functions this analysis relies on. If this is your first time running R and you don't have these packages installed, Jupyter notebook will throw an error saying there is no package named \\[package you don't have\\]. If that happens, run \"install.packages('\\[package you don't have\\]')\" to install it. \n",
    "\n",
    "This block of code is also used to define functions that will prove useful in the analysis later on. \n",
    "\n",
    "iqr_plot is a plotting function that takes in a dataframe, a start date, and some text. Using functions from the tidyverse, the collection of functions that embody a set of data analytic principles championed by Hadley Wickham, this function creates a visualiation of the median, as well as first and third quartiles of internet speed over time. Additionally, it allows for a reference dataframe to be input, in order to allow for comparisons. In the case of the Puerto Rico analysis, the reference dataframe was for the mainland U.S.\n",
    "\n",
    "theme_map is technically a function, but it's really used to set visual parameters for the choropleth maps produced in this analysis. It doesn't take any objects as input and will only work when attached to a ggplot object. theme_scatter servers a similar ppurpose for scatterplots.\n",
    "\n",
    "Lastly, map_prep is a function used for preparing data to be plotted in a choropleth map. It takes a little bit of massaging to the get the data in the right shape ad associated with the right values, so map_prep groups all of the functions used for doing that into one functino to allow for the use of tidyverse functinos from dplyr."
   ]
  },
  {
   "cell_type": "code",
   "execution_count": 2,
   "metadata": {},
   "outputs": [],
   "source": [
    "suppressMessages(library(bigrquery));\n",
    "suppressMessages(library(zipcode));\n",
    "suppressMessages(library(tidyverse));\n",
    "suppressMessages(library(glue));\n",
    "suppressMessages(library(downloader));\n",
    "suppressMessages(library(ggplot2));\n",
    "suppressMessages(library (rgdal));\n",
    "suppressMessages(library (rgeos));\n",
    "suppressMessages(library(maptools));\n",
    "suppressMessages(library(viridis));\n",
    "suppressMessages(library(lubridate));\n",
    "suppressMessages(library(RColorBrewer));\n",
    "suppressMessages(library(reshape2));\n",
    "suppressMessages(library(ggridges));\n",
    "suppressMessages(library(gridExtra));\n",
    "suppressMessages(library(deldir));\n",
    "suppressMessages(library(tidycensus));\n",
    "suppressMessages(library(sp));\n",
    "suppressMessages(library(sf));\n",
    "suppressMessages(library(tigris));\n",
    "suppressMessages(library(spatstat));\n",
    "suppressMessages(library(maptools)); \n",
    "\n",
    "\n",
    "iqr_plot <-function(D, cutoff_date, titles, D.to.join=NULL, labs){\n",
    "  res<-D%>%data.frame()%>%group_by(day)%>%\n",
    "    summarise(\"min\"=summary(num)[1],\"1q\"=summary(num)[2], \"med\"=summary(num)[3], \"mea\"=summary(num)[4],\n",
    "              \"3q\"=summary(num)[5], \"max\"=summary(num)[6], \"num\"=n())\n",
    "  res$day<-ymd(res$day)\n",
    "  \n",
    "  if(class(D.to.join)[1]!=\"NULL\"){\n",
    "    res1<-left_join(res, D.to.join)\n",
    "    res1<-res1%>%filter(day>ymd(cutoff_date))\n",
    "    var.l<-c(2,3,5,9,10)\n",
    "  }else{\n",
    "    res1<-res%>%filter(day>ymd(cutoff_date))\n",
    "    var.l<-c(2,3,5)\n",
    "  }\n",
    "  \n",
    "  res1<-melt(res1, variable.name = \"keys\", value.name = \"speeds\", id.vars = \"day\")\n",
    "  res1<-data.frame(\"day\"=ymd(res1$day), \"sum_type\"=as.factor(res1$keys), \"speed\"=as.numeric(res1$speeds))\n",
    "  \n",
    "  plasma_pal <- brewer.pal(3, \"Dark2\")\n",
    "  plasma_pal<-c(plasma_pal,alpha(c(\"#C0C0C0\",\"#C0C0C0\"),.7 ))\n",
    "  \n",
    "  res1%>%filter(sum_type%in%levels(res1$sum_type)[var.l])%>%ggplot(aes(x=day, y = speed, col=sum_type))+\n",
    "    geom_line(size =.6)+theme_scatter()+labs(x = \"Dates\", y = \"Mbps\",title = titles)+\n",
    "    scale_color_manual(values = plasma_pal, labels=labs, name=\"\")\n",
    "    \n",
    "}\n",
    "\n",
    "theme_map <- function(...) {\n",
    "  theme_minimal() +\n",
    "    theme(\n",
    "      text = element_text(family = \"Ubuntu Regular\", color = \"#22211d\"),\n",
    "      axis.line = element_blank(),\n",
    "      axis.text.x = element_blank(),\n",
    "      axis.text.y = element_blank(),\n",
    "      axis.ticks = element_blank(),\n",
    "      axis.title.x = element_blank(),\n",
    "      axis.title.y = element_blank(),\n",
    "      # panel.grid.minor = element_line(color = \"#ebebe5\", size = 0.2),\n",
    "      panel.grid.major = element_line(color = \"#ebebe5\", size = 0.2),\n",
    "      panel.grid.minor = element_blank(),\n",
    "      plot.background = element_rect(fill = \"#f5f5f2\", color = NA), \n",
    "      panel.background = element_rect(fill = \"#f5f5f2\", color = NA), \n",
    "      legend.background = element_rect(fill = \"#f5f5f2\", color = NA),\n",
    "      panel.border = element_blank(),\n",
    "      ...\n",
    "    )\n",
    "}\n",
    "theme_scatter <- function(...) {\n",
    "  theme_minimal() +\n",
    "    theme(\n",
    "      text = element_text(family = \"Ubuntu Regular\", color = \"#22211d\"),\n",
    "      # panel.grid.minor = element_line(color = \"#ebebe5\", size = 0.2),\n",
    "      panel.grid.major = element_line(color = \"#ebebe5\", size = 0.2),\n",
    "      panel.grid.minor = element_blank(),\n",
    "      plot.background = element_rect(fill = \"#f5f5f2\", color = NA), \n",
    "      panel.background = element_rect(fill = \"#f5f5f2\", color = NA), \n",
    "      legend.background = element_rect(fill = \"#f5f5f2\", color = NA),\n",
    "      panel.border = element_blank(),\n",
    "      ...\n",
    "    )\n",
    "}\n",
    "\n",
    "\n",
    "map_prep<-function(D.map, quants, no_classes, NA_val){\n",
    "  cols_temp<-D.map$med\n",
    "  if(length(quants)==1){\n",
    "    labels <- c()\n",
    "    quantiles <- quantile(na.omit(cols_temp) , probs = seq(0, 1, length.out = no_classes + 1))\n",
    "    labels <- c()\n",
    "    for(idx in 1:length(quantiles)){\n",
    "      labels <- c(labels, paste0(round(quantiles[idx], 2), \" - \", round(quantiles[idx + 1], 2)))\n",
    "    }\n",
    "    labels <- labels[1:length(labels)-1]\n",
    "    cols_temp <- cut(cols_temp, breaks = quantiles, labels = labels, include.lowest = T)\n",
    "  }else{\n",
    "    labels <- c()\n",
    "    for(idx in 1:length(quants)){\n",
    "      labels <- c(labels, paste0(round(quants[idx], 2), \" - \", round(quants[idx + 1], 2)))\n",
    "    }\n",
    "    labels <- labels[1:length(labels)-1]\n",
    "    cols_temp <- cut(cols_temp, breaks = quants, labels = labels, include.lowest = T)\n",
    "  }\n",
    "  \n",
    "  cols_temp<-`levels<-`(addNA(cols_temp), c(levels(cols_temp), NA_val))\n",
    "  \n",
    "  cols<-as.factor(cols_temp)\n",
    "  cols<- factor(cols, levels = levels(cols)[order(as.numeric(str_trim(lapply(str_split(levels(cols),\"-\"), function(x)return(x[[1]])))))])\n",
    "  \n",
    "  \n",
    "  plasma_pal <- c(viridis::magma(n = length(levels(cols))))\n",
    "  D.map$med<-cols\n",
    "  return(list(\"data\"=D.map, \"colors\"=plasma_pal))\n",
    "}\n",
    "                                                                             "
   ]
  },
  {
   "cell_type": "markdown",
   "metadata": {},
   "source": [
    "### Using BigQuery to get M-lab data from the entire U.S. and Puerto Rico\n",
    "The first step in the analysis is to download the internet speed data from Puerto Rico. This is done using BigQuery. The code below will work perfectly for other states besides Puerto Rico so long as the geolocation country name is changed. \n",
    "\n",
    "There are several important steps happening here. First, we assign a project to the query. This is your BigQuery or Google project, and it tells BigQuery who is making this query. \n",
    "\n",
    "Next, we have the actual SQL query itself. By designating this query as \"#standardSQL\" and not \"legacySQL,\" we are telling bigquery we wanted to use the standard syntax of SQL. The first query is almost identical to the download speed query contained in M-lab's Calculating Common Metrics tutorial, so I won't go over it in extra detail, other than to say, notice that I'm only querying for the download speed, the day, the ip address, and I'm limiting the query to Puerto Rico. \n",
    "\n",
    "\n",
    "The second query does something similar for the entire US but it skips a step because there is too much data to load locally. Instead, it uses bigQuery to compute the first, middle, and third quartiles of NDT test speeds for the entire US for every day from 2009 until the present. Because this data has already been aggregated, it doesn't make sense to also call the IP addresses. The \"APPROX_QUANTILES(X)\\[OFFSET(500)\\]\" construction gives the median, and by changing 500 to other numbers, we can query other quantiles. "
   ]
  },
  {
   "cell_type": "code",
   "execution_count": 9,
   "metadata": {},
   "outputs": [
    {
     "name": "stderr",
     "output_type": "stream",
     "text": [
      "Waiting for authentication in browser...\n",
      "Press Esc/Ctrl + C to abort\n",
      "Please point your browser to the following url: \n",
      "https://accounts.google.com/o/oauth2/auth?client_id=465736758727.apps.googleusercontent.com&scope=https%3A%2F%2Fwww.googleapis.com%2Fauth%2Fbigquery%20https%3A%2F%2Fwww.googleapis.com%2Fauth%2Fcloud-platform&redirect_uri=http%3A%2F%2Flocalhost%3A1410%2F&response_type=code&state=BVmrvduI0Z\n",
      "Authentication complete.\n",
      "167.9 gigabytes processed\n",
      "160.3 gigabytes processed\n"
     ]
    }
   ],
   "source": [
    "options(warn=-1)\n",
    "project <- \"temporal-clover-206220\"\n",
    "sql_fmt <- \"#standardSQL\n",
    "SELECT partition_date AS day, 8 *\n",
    "(web100_log_entry.snap.HCThruOctetsAcked /\n",
    "(web100_log_entry.snap.SndLimTimeRwin +\n",
    "web100_log_entry.snap.SndLimTimeCwnd +\n",
    "web100_log_entry.snap.SndLimTimeSnd)) AS d_mps, connection_spec.client_ip AS ip\n",
    "FROM `measurement-lab.release.ndt_all`\n",
    "WHERE \n",
    "connection_spec.data_direction = 1\n",
    "AND web100_log_entry.snap.HCThruOctetsAcked >= 8192\n",
    "AND (web100_log_entry.snap.SndLimTimeRwin +\n",
    "web100_log_entry.snap.SndLimTimeCwnd +\n",
    "web100_log_entry.snap.SndLimTimeSnd) >= 9000000\n",
    "AND (web100_log_entry.snap.SndLimTimeRwin +\n",
    "web100_log_entry.snap.SndLimTimeCwnd +\n",
    "web100_log_entry.snap.SndLimTimeSnd) < 600000000\n",
    "AND web100_log_entry.snap.CongSignals > 0\n",
    "AND (web100_log_entry.snap.State = 1 OR\n",
    "(web100_log_entry.snap.State >= 5 AND\n",
    "web100_log_entry.snap.State <= 11))\n",
    "AND connection_spec.client_geolocation.country_name = 'Puerto Rico';\"\n",
    "todo_copies <- query_exec(sql_fmt, project = project, use_legacy_sql=FALSE, max_pages = Inf)\n",
    "todo_copies_org <- todo_copies\n",
    "todo_copies$day<-str_sub(todo_copies$day,1,7)\n",
    "todo_copies$day<-parse_date_time(todo_copies$day, \"y-m\")\n",
    "\n",
    "sql_fmt <- \"#standardSQL\n",
    "SELECT\n",
    "partition_date AS day, COUNT(connection_spec.client_ip) AS ip_count,\n",
    "APPROX_QUANTILES(8 *(web100_log_entry.snap.HCThruOctetsAcked /(web100_log_entry.snap.SndLimTimeRwin +\n",
    "web100_log_entry.snap.SndLimTimeCwnd +web100_log_entry.snap.SndLimTimeSnd)), 1000)[OFFSET(500)] AS d_mps_med,\n",
    "APPROX_QUANTILES(8 *(web100_log_entry.snap.HCThruOctetsAcked /(web100_log_entry.snap.SndLimTimeRwin +\n",
    "web100_log_entry.snap.SndLimTimeCwnd +web100_log_entry.snap.SndLimTimeSnd)), 1000)[OFFSET(250)] AS d_mps_fir,\n",
    "APPROX_QUANTILES(8 *(web100_log_entry.snap.HCThruOctetsAcked /(web100_log_entry.snap.SndLimTimeRwin +\n",
    "web100_log_entry.snap.SndLimTimeCwnd +web100_log_entry.snap.SndLimTimeSnd)), 1000)[OFFSET(750)] AS d_mps_thi\n",
    "FROM `measurement-lab.release.ndt_all`\n",
    "WHERE \n",
    "connection_spec.data_direction = 1\n",
    "AND web100_log_entry.snap.HCThruOctetsAcked >= 8192\n",
    "AND (web100_log_entry.snap.SndLimTimeRwin +\n",
    "web100_log_entry.snap.SndLimTimeCwnd +\n",
    "web100_log_entry.snap.SndLimTimeSnd) >= 9000000\n",
    "AND (web100_log_entry.snap.SndLimTimeRwin +\n",
    "web100_log_entry.snap.SndLimTimeCwnd +\n",
    "web100_log_entry.snap.SndLimTimeSnd) < 600000000\n",
    "AND web100_log_entry.snap.CongSignals > 0\n",
    "AND (web100_log_entry.snap.State = 1 OR\n",
    "(web100_log_entry.snap.State >= 5 AND\n",
    "web100_log_entry.snap.State <= 11)) AND\n",
    "connection_spec.server_geolocation.country_name = 'United States' \n",
    "GROUP BY \n",
    "day;\"\n",
    "todo_copies_USA <- query_exec(sql_fmt, project = project, use_legacy_sql=FALSE, max_pages = Inf)\n",
    "todo_copies_USA$day<-str_sub(todo_copies_USA$day,1,7)\n",
    "todo_copies_USA$day<-parse_date_time(todo_copies_USA$day, \"y-m\")%>%ymd\n",
    "todo_copies_USA<-todo_copies_USA%>%group_by(day)%>%summarise(\"first\"=median(d_mps_fir), \"meds\"=median(d_mps_med), \"third\"=median(d_mps_thi))\n"
   ]
  },
  {
   "cell_type": "markdown",
   "metadata": {},
   "source": [
    "For testing purposes, I'm using location data that comes from a tool that isn't Maxmind (which is the typical tool M-lab uses for geolocation). We recieved a special key to have access to this other data source, and are required to keep the key private, so I'm loading in the geolocation data as JSON_info_full. This data frame contains the location of an IP, the ASN it belongs to, as well as the company that owns that ASN. \n",
    "\n",
    "This cell also loads in the results of the SQL calls above so that I don't have to make calls to the BigQuery tables every time. This latter difference, however, isn't an important one.\n",
    "\n",
    "What is important is that on line 25 of this cell, I'm using \"left_join\" to join the ip data (which includes longitudes and latitudes) with the speed data from BigQuery. After joining, lines 30 and 31 convert the data into a \"spatial features\" objects. These objects work wonderfully with tidy census and make the choropleth maps we eventually produce much easier to make."
   ]
  },
  {
   "cell_type": "code",
   "execution_count": 10,
   "metadata": {},
   "outputs": [
    {
     "name": "stderr",
     "output_type": "stream",
     "text": [
      "Joining, by = \"ip\"\n"
     ]
    }
   ],
   "source": [
    "setwd(\"C:/Users/nickt/OneDrive/Documents\")\n",
    "readRenviron(\"~/.Renviron\")\n",
    "load(\"JSON_info_full\")\n",
    "D.time.s<-todo_copies\n",
    "a<-map(map(JSON_info, \"asn\"), \"name\")\n",
    "b<-map(JSON_info, \"ip\")\n",
    "c<-map(map(JSON_info, \"company\"), \"name\")\n",
    "d<-map(map(JSON_info, \"loc\")%>%str_split(\",\"),1)\n",
    "e<-map(map(JSON_info, \"loc\")%>%str_split(\",\"),2)\n",
    "rm.a<-which(lapply(a, length)==0)\n",
    "rm.b<-which(lapply(b, length)==0)\n",
    "rm.c<-which(lapply(c, length)==0)\n",
    "rm.d<-which(lapply(d, length)==0)\n",
    "rm.e<-which(lapply(e, length)==0)\n",
    "rms<-c(rm.a,rm.b, rm.c, rm.d,rm.e)\n",
    "a<-a[-rms]\n",
    "b<-b[-rms]\n",
    "c<-c[-rms]\n",
    "d<-d[-rms]\n",
    "e<-e[-rms]\n",
    "isp_frame<-data.frame(\"ip\"=unlist(b),\"isp\"= unlist(a), \"company\"=unlist(c), \"lat\"=unlist(d), \"long\"=unlist(e))\n",
    "#tmp_frame<-left_join(ip_post_pair, isp_frame)\n",
    "D.time.s<-read.csv(\"PR_SQL.csv\")\n",
    "D.time.s<-D.time.s[,-1]\n",
    "D.sql.final <-left_join(D.time.s, isp_frame)%>%data.frame\n",
    "D.sql.spatial<-D.sql.final%>%na.omit%>%filter(nchar(as.character(as.numeric(as.character(lat))))>5)\n",
    "D.sql.spatial$lat<-as.numeric(as.character(D.sql.spatial$lat))\n",
    "D.sql.spatial$long<-as.numeric(as.character(D.sql.spatial$long))\n",
    "names(D.sql.final)<-c(\"day\", \"num\",\"ip\", \"isp\",\"company\", \"lat\",\"long\")\n",
    "coordinates(D.sql.spatial)<- ~long+lat\n",
    "D.sql.spatial<-as(D.sql.spatial, \"sf\")"
   ]
  },
  {
   "cell_type": "markdown",
   "metadata": {},
   "source": [
    "### Line plots over time\n",
    "\n",
    "This produces the most important plot in the story, which captures the long-term stagnation, the temporary improvements in 2016 and 2017, and the sustained decrease in speed caused by Hurricane Maria. The heavy lifting is done by the function iqr, and that is defined in the first code cell above. The important thing to note is that iqr_plot takes five inputs, three of which are cosmetic. \n",
    "\n",
    "The first input, \"D,\" is the principal dataset, and it will be split up by quartile and plotted in color. As can be seen by line 1, this dataframe should have the speeds grouped by ip and day. The second input, \"D.to.join,\" is a reference dataset, and it will be used to produce the grey background lines. It's defined on line 58 of the BigQuery code block, but it comes almost directly from the BigQuery call on the entire US. \n",
    "\n",
    "The other three inputs set the starting date for the graph, the title, and the legend labels, respectively.\n",
    "\n",
    "One last thing to note, in line 1 I'm grouping by ip and day before calculating the median and sending that to iqr plot. What that means is that I calculate the median download speed for each ip on each day, and then iqr_plot calculates the first quartile, median, and third quartile over each day of the ip medians. This prevents a single trigger-happy ip from tilting the daily median toward its download speed."
   ]
  },
  {
   "cell_type": "code",
   "execution_count": 11,
   "metadata": {},
   "outputs": [
    {
     "name": "stderr",
     "output_type": "stream",
     "text": [
      "Joining, by = \"day\"\n"
     ]
    },
    {
     "data": {},
     "metadata": {},
     "output_type": "display_data"
    },
    {
     "data": {
      "image/png": "[encoded data removed]",
      "text/plain": [
       "plot without title"
      ]
     },
     "metadata": {},
     "output_type": "display_data"
    }
   ],
   "source": [
    "med.D<-D.sql.final%>%group_by(ip, day)%>%summarise(\"num\"=median(num))\n",
    "iqr_plot(D=med.D,\n",
    "         D.to.join=todo_copies_USA,\n",
    "         cutoff_date = ymd(\"2010-01-01\"), \n",
    "         titles = \"Median download speed\",\n",
    "         labs =  c(\"First quartile PR\", \"Median PR\", \"Third quartile PR\",\"Median mainland US\", \n",
    "                   \"Third quartile mainland US\"))\n"
   ]
  },
  {
   "cell_type": "markdown",
   "metadata": {},
   "source": [
    "### Clutering for geographical analysis\n",
    "\n",
    "Now we're turning to the geographical analysis of NDT speeds over time. Because the density of users and tests is unequal spatially, it can be difficult to see geographical trends. However, by grouping together nearby ZCTA using clustering methods, it becomes easier to see the trends that are already there. \n",
    "\n",
    "The first step in this kind of unsupervised clustering is deciding how many clusters to settle on. A common way of approaching this is the \"elbow method.\" First, you calculate what the clusters would look like for many different cluster numbers and after getting the clusters, you calculate how similar the elements in one cluster are to one another for each cluster set. \n",
    "\n",
    "You then plot that statistic, the \"total within-cluster sum of squares,\" against the number of clusters that produced that WSS. Using the \"elbow rule\" means to choose the number of clusters at the \"elbow\" of the plot, the place where the initial sharp downard slope starts to flatten out. \n",
    "\n",
    "The intuitive justification is that the elbow represents the value where increasing the number of clusters starts to garner diminishing returns . You're increasing the number of clusters (which is akin to overfitting, or further fitting _this_ data as opposed to the population data) without getting back all that much more in-cluster similarity.\n",
    "\n"
   ]
  },
  {
   "cell_type": "code",
   "execution_count": 14,
   "metadata": {},
   "outputs": [
    {
     "data": {
      "image/png": "[encoded data removed]",
      "text/plain": [
       "plot without title"
      ]
     },
     "metadata": {},
     "output_type": "display_data"
    }
   ],
   "source": [
    "df<-D.sql.final[,c(7,6)]%>%na.omit%>%mutate_all(as.character)\n",
    "lon.win <-c(-67.9518, -65.22464)\n",
    "lat.win <-c(17.87082, 18.51871)\n",
    "df<-df%>%na.omit%>%mutate_all(as.numeric)%>%filter((lon.win[2]>long)&(long>lon.win[1]))%>%\n",
    "  filter((lat.win[2]>lat)&&(lat>lat.win[1]))%>%distinct\n",
    "###checking number of clusters\n",
    "set.seed(123)\n",
    "# Compute and plot wss for k = 2 to k = 15.\n",
    "k.max <- 20\n",
    "data <- df\n",
    "wss <- sapply(1:k.max, \n",
    "              function(k){kmeans(data, k,nstart=50,iter.max = 1000)$tot.withinss})\n",
    "plot(1:k.max, wss,\n",
    "     type=\"b\", pch = 19, frame = FALSE, \n",
    "     xlab=\"Number of clusters K\",\n",
    "     ylab=\"Total within-clusters sum of squares\")"
   ]
  },
  {
   "cell_type": "markdown",
   "metadata": {},
   "source": [
    "Here that number appears to be between four and eight. We choose seven, and use this number to produce a segmentation of Puerto Rico into \"tiles.\" Below are the k-means tiles and the ZCTA of Puerto Rico prior to combining the two."
   ]
  },
  {
   "cell_type": "code",
   "execution_count": 18,
   "metadata": {},
   "outputs": [
    {
     "name": "stderr",
     "output_type": "stream",
     "text": [
      "although coordinates are longitude/latitude, st_intersection assumes that they are planar\n"
     ]
    },
    {
     "data": {
      "image/png": "[encoded data removed]",
      "text/plain": [
       "Plot with title \"K-means segmentation\""
      ]
     },
     "metadata": {},
     "output_type": "display_data"
    },
    {
     "data": {
      "image/png": "[encoded data removed]",
      "text/plain": [
       "Plot with title \"Puerto Rico ZCTA\""
      ]
     },
     "metadata": {},
     "output_type": "display_data"
    }
   ],
   "source": [
    "df1<-kmeans(df, 7, nstart = 100, iter.max = 1000)\n",
    "W <- ripras(df1$centers, shape=\"rectangle\")\n",
    "W <- owin(c(-67.9518, -65.22464), c(17.87082, 18.51871))\n",
    "X <- as.ppp(df1$centers, W=W) \n",
    "voronoi<-dirichlet(X)\n",
    "vor.tiles<- as(voronoi, \"SpatialPolygons\") \n",
    "vor.tiles.df<-SpatialPolygonsDataFrame(vor.tiles,data.frame(vor=1:length(vor.tiles)),match.ID=F)\n",
    "pr_acs<-pop\n",
    "locs<-pr_acs$geometry\n",
    "vor.sf<-as(vor.tiles.df, \"sf\")\n",
    "vor.sf$vor<-as.factor(vor.sf$vor)\n",
    "zcta.sf<-locs%>%st_sfc%>%st_sf\n",
    "name<-1:nrow(zcta.sf)\n",
    "zcta.sf$zcta = name\n",
    "zcta.sf$zcta<-as.factor(zcta.sf$zcta)\n",
    "st_crs(vor.sf)<-st_crs(zcta.sf)\n",
    "st_int<-st_intersection(vor.sf, zcta.sf)\n",
    "attArea <- st_int %>%mutate(area = st_area(.) %>% as.numeric())\n",
    "join_D<-attArea%>%as_tibble()%>%group_by(vor, zcta)%>%summarize(area = sum(area))%>%group_by(zcta)%>%\n",
    "  summarise(\"shared_vor\"=vor[which.max(area)])%>%group_by(shared_vor)\n",
    "plot(vor.tiles, main=\"K-means segmentation\")\n",
    "plot(zcta.sf, main=\"Puerto Rico ZCTA\")"
   ]
  },
  {
   "cell_type": "markdown",
   "metadata": {},
   "source": [
    "### Geographical analysis\n",
    "\n",
    "With both shapefiles, we can cluster the ZCTAs into groups according to their overlaps with the k-means tiles by taking the intersections of the two and assigning a ZCTA to a tile if over 50% of the area of that ZCTA is inside the tile. Below is the clustering of ZCTAs into larger regions for the purpose of geographical analysis."
   ]
  },
  {
   "cell_type": "code",
   "execution_count": 21,
   "metadata": {},
   "outputs": [
    {
     "name": "stderr",
     "output_type": "stream",
     "text": [
      "although coordinates are longitude/latitude, st_intersection assumes that they are planar\n"
     ]
    },
    {
     "data": {
      "image/png": "[encoded data removed]",
      "text/plain": [
       "Plot with title \"Clustered ZCTA\""
      ]
     },
     "metadata": {},
     "output_type": "display_data"
    }
   ],
   "source": [
    "st_crs(vor.sf)<-st_crs(zcta.sf)\n",
    "st_int<-st_intersection(vor.sf, zcta.sf)\n",
    "attArea <- st_int %>%mutate(area = st_area(.) %>% as.numeric())\n",
    "join_D<-attArea%>%as_tibble()%>%group_by(vor, zcta)%>%summarize(area = sum(area))%>%group_by(zcta)%>%\n",
    "  summarise(\"shared_vor\"=vor[which.max(area)])%>%group_by(shared_vor)\n",
    "\n",
    "###this joins the zctas that are assigned to the same voronois\n",
    "skip.list<-c()\n",
    "for(i in 1:nrow(join_D)){\n",
    "  vor.num<-join_D[i,]$shared_vor\n",
    "  vor.inds<-which(join_D$shared_vor==vor.num)\n",
    "  if(length(vor.inds)==1){\n",
    "    next\n",
    "  }else{\n",
    "    if(i%in%skip.list){\n",
    "      next\n",
    "    }\n",
    "    zcta.sf.ind<-which(zcta.sf$zcta%in%join_D[vor.inds,]$zcta)\n",
    "    new.feat<-zcta.sf[zcta.sf.ind,]%>%st_union\n",
    "    zcta.sf$geometry[zcta.sf.ind[1]]<-new.feat\n",
    "    zcta.sf<-zcta.sf[(1:length(zcta.sf$geometry))[-zcta.sf.ind[-1]],]\n",
    "    skip.list<-c(skip.list, vor.inds)\n",
    "  }\n",
    "}\n",
    "plot(zcta.sf, main=\"Clustered ZCTA\")"
   ]
  },
  {
   "cell_type": "markdown",
   "metadata": {},
   "source": [
    "### Geographical analysis\n",
    "One thing that's particularly nice about tidy census and the spatial features, or \"sf\" objects, in R is that they allow for the easy aggregation of demographic and non-spatial data while performing spatial joins. The spatial clustering and joins above could cause real headache in trying to keep track of what data went with which ZCTA, but tidy census lets us augment our data with a flag we can use to re-join the newly clustered ZCTA regions with the old ZCTA data. That means assigning the Mbps data to the right place is a one-liner. \n",
    "\n",
    "The join isn't particularly fast with 200k+ entries, but we only need to perform it once and we can produce the plots we like after. \n",
    "\n",
    "Here we produce four plots of the NDT test speeds per region over four time periods: 2009-2016, 2016, 2017 up until Hurricane Maria, and from Hurricane Maria until today."
   ]
  },
  {
   "cell_type": "code",
   "execution_count": 35,
   "metadata": {},
   "outputs": [
    {
     "name": "stderr",
     "output_type": "stream",
     "text": [
      "Joining, by = \"zcta\"\n",
      "Joining, by = \"zcta\"\n",
      "Joining, by = \"zcta\"\n",
      "Joining, by = \"zcta\"\n"
     ]
    },
    {
     "data": {
      "image/png": "[encoded data removed]",
      "text/plain": [
       "plot without title"
      ]
     },
     "metadata": {},
     "output_type": "display_data"
    }
   ],
   "source": [
    "st_crs(D.sql.spatial)<-st_crs(zcta.sf)\n",
    "D.joined<-st_join(D.sql.spatial, zcta.sf)\n",
    "D.joined.sum<-D.joined%>%data.frame%>%group_by(zcta,ip, day)%>%summarise(\"med\"=median(d_mps))\n",
    "\n",
    "num_title<-\"Puerto Rico's M-Lab usage\"\n",
    "num_subtitle<-'Internet speeds from 2009-2016'\n",
    "D.plot1<-D.joined.sum%>%data.frame%>%filter(ymd(day)%within%interval(ymd(\"2009-09-01\"),ymd(\"2016-01-01\")))%>%group_by(zcta)%>%\n",
    "  summarise(\"n\"=n(),\"med\"=median(med))%>%filter(n>2)%>%left_join(x=zcta.sf)%>%map_prep(c(1,2,3,4,5,6), NA_val=\"NA\", no_classes=6)\n",
    "D.plot2<-D.joined.sum%>%data.frame%>%filter(ymd(day)%within%interval(ymd(\"2016-01-01\"),ymd(\"2016-12-01\")))%>%group_by(zcta)%>%\n",
    "  summarise(\"n\"=n(),\"med\"=median(med))%>%filter(n>2)%>%left_join(x=zcta.sf)%>%map_prep(c(1,2,3,4,5,6), NA_val=\"NA\", no_classes=6)\n",
    "D.plot3<-D.joined.sum%>%data.frame%>%filter(ymd(day)%within%interval(ymd(\"2017-01-01\"),ymd(\"2017-07-01\")))%>%group_by(zcta)%>%\n",
    "  summarise(\"n\"=n(),\"med\"=median(med))%>%filter(n>2)%>%left_join(x=zcta.sf)%>%map_prep(c(1,2,3,4,5,6), NA_val=\"NA\", no_classes=6)\n",
    "D.plot4<-D.joined.sum%>%data.frame%>%filter(ymd(day)%within%interval(ymd(\"2017-08-01\"),ymd(\"2018-02-01\")))%>%group_by(zcta)%>%\n",
    "  summarise(\"n\"=n(),\"med\"=median(med))%>%filter(n>2)%>%left_join(x=zcta.sf)%>%map_prep(c(1,2,3,4,5,6), NA_val=\"NA\", no_classes=6)\n",
    "\n",
    "colors<-unique(c(D.plot1$colors, D.plot2$colors, D.plot3$colors, D.plot4$colors))\n",
    "colors<-c(viridis::magma(length(colors)-1), \"grey\")\n",
    "\n",
    "pre.plot<-D.plot1$data%>%ggplot(aes(fill=med), color=med)+geom_sf()+scale_fill_manual(values=colors,drop=FALSE,name=\"Mbps\")+\n",
    "labs(title=num_title, subtitle=num_subtitle)+theme(legend.position=\"none\")+theme_map()\n",
    "\n",
    "num_title<-\"\"\n",
    "num_subtitle<-'Internet speeds during 2016'\n",
    "\n",
    "plot.2016<-D.plot2$data%>%ggplot(aes(fill=med), color=med)+geom_sf()+scale_fill_manual(values=colors,drop=FALSE,name=\"Mbps\")+\n",
    "  labs(title=num_title, subtitle=num_subtitle)+theme(legend.position=\"none\")+theme_map()\n",
    "\n",
    "num_title<-\"\"\n",
    "num_subtitle<-'Internet speeds six months prior to Maria'\n",
    "\n",
    "pre.hurr<-D.plot3$data%>%ggplot(aes(fill=med), color=med)+geom_sf()+scale_fill_manual(values=colors,drop=FALSE,name=\"Mbps\")+\n",
    "  labs(title=num_title, subtitle=num_subtitle)+theme(legend.position=\"none\")+theme_map()\n",
    "\n",
    "num_title<-\"\"\n",
    "num_subtitle<-'Internet speeds six months after Maria'\n",
    "\n",
    "post.hurr<-D.plot4$data%>%ggplot(aes(fill=med), color=med)+geom_sf()+scale_fill_manual(values=colors,drop=FALSE,name=\"Mbps\")+\n",
    "  labs(title=num_title, subtitle=num_subtitle)+theme(legend.position=\"none\")+theme_map()\n",
    "\n",
    "grid.arrange(pre.plot, plot.2016,pre.hurr,post.hurr)"
   ]
  },
  {
   "cell_type": "markdown",
   "metadata": {},
   "source": [
    "The results are in keeping with the plot from above, but these allow us to see both the breadth of the stagnation's impact and the unequal recovery after Maria. Speeds are uniformally slow from 2009-2016. During 2016 and 2017, we see country-wide improvements, as every region in the country moves up at least one speed category from the beginning of 2016 to the middle of 2017. After Maria, however, regional speeds return to 2009 speeds in two of the seven regions and return to 2016 speeds in three regions. Interestingly, there is one region that improves dramatically after the hurricance.\n",
    "\n",
    "This region, colored in yellow, contains the second-largest city in Puerto Rico, Ponce, and the increase in internet speed is due to two companies, the Puerto Rico Telephone Company and Liberty Cable Vision. It may not be central to the story that Ponce is driving the region's internet speed increases (though it might be a useful fact to remember), but it's important to check that these kinds of increases are real and not spurious. By grouping first by ip and isp, summarising, and then grouping by isp and summarising again, we get the median internet value per isp while mitigating the impact a single user can have on their isp's median. \n",
    "\n",
    "This part of the analysis won't be possible without using \"JSON_info_full.\" "
   ]
  },
  {
   "cell_type": "code",
   "execution_count": 51,
   "metadata": {},
   "outputs": [
    {
     "data": {
      "text/html": [
       "<table>\n",
       "<thead><tr><th scope=col>isp</th><th scope=col>n</th><th scope=col>med</th></tr></thead>\n",
       "<tbody>\n",
       "\t<tr><td><span style=white-space:pre-wrap>AT&amp;T Mobility Puerto Rico             </span></td><td><span style=white-space:pre-wrap>  3</span>                                       </td><td>16.8915330                                                                        </td></tr>\n",
       "\t<tr><td>Liberty Cablevision of Puerto Rico LTD</td><td>121                                   </td><td> 7.0832039                            </td></tr>\n",
       "\t<tr><td>Nustream Communications               </td><td>  1                                   </td><td> 5.2147948                            </td></tr>\n",
       "\t<tr><td>DATACOM CARIBE, INC.                  </td><td> 59                                   </td><td> 4.0409131                            </td></tr>\n",
       "\t<tr><td>DM Wireless                           </td><td>  1                                   </td><td> 3.1395358                            </td></tr>\n",
       "\t<tr><td>OSNET Wireless                        </td><td>  5                                   </td><td> 3.0833615                            </td></tr>\n",
       "\t<tr><td>Aeronet Wireless                      </td><td>  2                                   </td><td> 3.0207110                            </td></tr>\n",
       "\t<tr><td>Open Mobile                           </td><td>  1                                   </td><td> 0.1865952                            </td></tr>\n",
       "\t<tr><td>T-Mobile USA, Inc.                    </td><td>  1                                   </td><td> 0.1781988                            </td></tr>\n",
       "</tbody>\n",
       "</table>\n"
      ],
      "text/latex": [
       "\\begin{tabular}{r|lll}\n",
       " isp & n & med\\\\\n",
       "\\hline\n",
       "\t AT\\&T Mobility Puerto Rico              &   3                                      & 16.8915330                              \\\\\n",
       "\t Liberty Cablevision of Puerto Rico LTD & 121                                    &  7.0832039                            \\\\\n",
       "\t Nustream Communications                &   1                                    &  5.2147948                            \\\\\n",
       "\t DATACOM CARIBE, INC.                   &  59                                    &  4.0409131                            \\\\\n",
       "\t DM Wireless                            &   1                                    &  3.1395358                            \\\\\n",
       "\t OSNET Wireless                         &   5                                    &  3.0833615                            \\\\\n",
       "\t Aeronet Wireless                       &   2                                    &  3.0207110                            \\\\\n",
       "\t Open Mobile                            &   1                                    &  0.1865952                            \\\\\n",
       "\t T-Mobile USA, Inc.                     &   1                                    &  0.1781988                            \\\\\n",
       "\\end{tabular}\n"
      ],
      "text/markdown": [
       "\n",
       "isp | n | med | \n",
       "|---|---|---|---|---|---|---|---|---|\n",
       "| AT&T Mobility Puerto Rico              |   3                                    | 16.8915330                             | \n",
       "| Liberty Cablevision of Puerto Rico LTD | 121                                    |  7.0832039                             | \n",
       "| Nustream Communications                |   1                                    |  5.2147948                             | \n",
       "| DATACOM CARIBE, INC.                   |  59                                    |  4.0409131                             | \n",
       "| DM Wireless                            |   1                                    |  3.1395358                             | \n",
       "| OSNET Wireless                         |   5                                    |  3.0833615                             | \n",
       "| Aeronet Wireless                       |   2                                    |  3.0207110                             | \n",
       "| Open Mobile                            |   1                                    |  0.1865952                             | \n",
       "| T-Mobile USA, Inc.                     |   1                                    |  0.1781988                             | \n",
       "\n",
       "\n"
      ],
      "text/plain": [
       "  isp                                    n   med       \n",
       "1 AT&T Mobility Puerto Rico                3 16.8915330\n",
       "2 Liberty Cablevision of Puerto Rico LTD 121  7.0832039\n",
       "3 Nustream Communications                  1  5.2147948\n",
       "4 DATACOM CARIBE, INC.                    59  4.0409131\n",
       "5 DM Wireless                              1  3.1395358\n",
       "6 OSNET Wireless                           5  3.0833615\n",
       "7 Aeronet Wireless                         2  3.0207110\n",
       "8 Open Mobile                              1  0.1865952\n",
       "9 T-Mobile USA, Inc.                       1  0.1781988"
      ]
     },
     "metadata": {},
     "output_type": "display_data"
    }
   ],
   "source": [
    "bb<-D.joined.sum%>%filter(zcta==4)%>%filter(ymd(day)>ymd(\"2017-09-01\"))\n",
    "bb.ip<-bb$ip\n",
    "D.ponce <- D.sql.final%>%filter(ip%in%bb.ip)\n",
    "D.ponce%>%group_by(isp,ip)%>%summarise(\"med\"=mean(num))%>%arrange(desc(med))%>%group_by(isp)%>%\n",
    "summarise(\"n\"=n(),\"med\"=median(med))%>%arrange(desc(med))"
   ]
  }
 ],
 "metadata": {
  "kernelspec": {
   "display_name": "R",
   "language": "R",
   "name": "ir"
  },
  "language_info": {
   "codemirror_mode": "r",
   "file_extension": ".r",
   "mimetype": "text/x-r-source",
   "name": "R",
   "pygments_lexer": "r",
   "version": "3.3.3"
  }
 },
 "nbformat": 4,
 "nbformat_minor": 2
}
