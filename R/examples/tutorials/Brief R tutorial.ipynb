{
 "cells": [
  {
   "cell_type": "markdown",
   "metadata": {},
   "source": [
    "## A tremendously brief R tutorial"
   ]
  },
  {
   "cell_type": "markdown",
   "metadata": {},
   "source": [
    "Hadley Wickham is better at teaching R than I am and it brings me absolutely no shame to say so. If you want to understand how R works and to quickly learn how to put R into practice, your best bet is to turn to his R for data science course and dig in. But like it's unnessessary to learn all of calculus to calculate acceleration, you don't need an entire course on R to get started using M-lab data in R. \n",
    "\n",
    "Here I'll go over some functions that come up repeatedly in my Jupyter notebook M-lab in R tutorial. You can and probably should read about these functions elsewhere if you want to really understand their full capabilities, but for the time being, I'd like to give enough of an understanding of how the functions work so that you can follow along with the M-lab tutorial. \n",
    "\n",
    " \n",
    " First we'll load the libraries we need:"
   ]
  },
  {
   "cell_type": "code",
   "execution_count": 18,
   "metadata": {},
   "outputs": [
    {
     "name": "stderr",
     "output_type": "stream",
     "text": [
      "\n",
      "Attaching package: 'lubridate'\n",
      "\n",
      "The following object is masked from 'package:base':\n",
      "\n",
      "    date\n",
      "\n"
     ]
    }
   ],
   "source": [
    "library(tidyverse)\n",
    "library(lubridate)"
   ]
  },
  {
   "cell_type": "markdown",
   "metadata": {},
   "source": [
    "### Base R functions:\n",
    "c(),\\[\\], $, length(), which(), seq, summary, quantiles, paste, cut, data.frame,\n",
    "na.omit  "
   ]
  },
  {
   "cell_type": "markdown",
   "metadata": {},
   "source": [
    "#### c(): \n",
    "The function c() is the basic function used for constructing vectors in R. It can be used like the \\[ \\] operator in Python. In R, either numbers or 1-d variables can be concatenated into vectors using the c() function. "
   ]
  },
  {
   "cell_type": "code",
   "execution_count": 3,
   "metadata": {},
   "outputs": [
    {
     "data": {
      "text/html": [
       "<ol class=list-inline>\n",
       "\t<li>1</li>\n",
       "\t<li>3</li>\n",
       "\t<li>5</li>\n",
       "\t<li>7</li>\n",
       "\t<li>8</li>\n",
       "\t<li>9</li>\n",
       "\t<li>10</li>\n",
       "\t<li>11</li>\n",
       "\t<li>12</li>\n",
       "\t<li>13</li>\n",
       "</ol>\n"
      ],
      "text/latex": [
       "\\begin{enumerate*}\n",
       "\\item 1\n",
       "\\item 3\n",
       "\\item 5\n",
       "\\item 7\n",
       "\\item 8\n",
       "\\item 9\n",
       "\\item 10\n",
       "\\item 11\n",
       "\\item 12\n",
       "\\item 13\n",
       "\\end{enumerate*}\n"
      ],
      "text/markdown": [
       "1. 1\n",
       "2. 3\n",
       "3. 5\n",
       "4. 7\n",
       "5. 8\n",
       "6. 9\n",
       "7. 10\n",
       "8. 11\n",
       "9. 12\n",
       "10. 13\n",
       "\n",
       "\n"
      ],
      "text/plain": [
       " [1]  1  3  5  7  8  9 10 11 12 13"
      ]
     },
     "metadata": {},
     "output_type": "display_data"
    }
   ],
   "source": [
    "x = c(1,3,5,7)\n",
    "y = c(8,9,10,11,12,13)\n",
    "c(x,y)"
   ]
  },
  {
   "cell_type": "markdown",
   "metadata": {},
   "source": [
    "#### \\[ \\]: \n",
    "The function \\[\\] is used for array slicing and will be one of your most used functions. Either wth a vector or a multi-dimensional array, the \\[\\] function allows the selection of individual elements, or subsets (like rows and columns of a matrix). Unlike Python and other languages, R is not zero-indexed. Negative indices are allowed and will remove the elements of the vector that are specified. Check out the third line below for an example. \n",
    "\n",
    "A useful point to note is that you can subset a vector by another vector without doing list comprehension or anything of the sort. Lines 4 and 5 have examples of that. The \":\" function below builds a range object from the first number to the second one."
   ]
  },
  {
   "cell_type": "code",
   "execution_count": 4,
   "metadata": {},
   "outputs": [
    {
     "data": {
      "text/html": [
       "5"
      ],
      "text/latex": [
       "5"
      ],
      "text/markdown": [
       "5"
      ],
      "text/plain": [
       "[1] 5"
      ]
     },
     "metadata": {},
     "output_type": "display_data"
    },
    {
     "data": {
      "text/html": [
       "<ol class=list-inline>\n",
       "\t<li>3</li>\n",
       "\t<li>5</li>\n",
       "\t<li>7</li>\n",
       "\t<li>8</li>\n",
       "\t<li>9</li>\n",
       "\t<li>10</li>\n",
       "\t<li>11</li>\n",
       "\t<li>12</li>\n",
       "\t<li>13</li>\n",
       "</ol>\n"
      ],
      "text/latex": [
       "\\begin{enumerate*}\n",
       "\\item 3\n",
       "\\item 5\n",
       "\\item 7\n",
       "\\item 8\n",
       "\\item 9\n",
       "\\item 10\n",
       "\\item 11\n",
       "\\item 12\n",
       "\\item 13\n",
       "\\end{enumerate*}\n"
      ],
      "text/markdown": [
       "1. 3\n",
       "2. 5\n",
       "3. 7\n",
       "4. 8\n",
       "5. 9\n",
       "6. 10\n",
       "7. 11\n",
       "8. 12\n",
       "9. 13\n",
       "\n",
       "\n"
      ],
      "text/plain": [
       "[1]  3  5  7  8  9 10 11 12 13"
      ]
     },
     "metadata": {},
     "output_type": "display_data"
    },
    {
     "data": {
      "text/html": [
       "<ol class=list-inline>\n",
       "\t<li>1</li>\n",
       "\t<li>3</li>\n",
       "\t<li>5</li>\n",
       "\t<li>7</li>\n",
       "\t<li>8</li>\n",
       "</ol>\n"
      ],
      "text/latex": [
       "\\begin{enumerate*}\n",
       "\\item 1\n",
       "\\item 3\n",
       "\\item 5\n",
       "\\item 7\n",
       "\\item 8\n",
       "\\end{enumerate*}\n"
      ],
      "text/markdown": [
       "1. 1\n",
       "2. 3\n",
       "3. 5\n",
       "4. 7\n",
       "5. 8\n",
       "\n",
       "\n"
      ],
      "text/plain": [
       "[1] 1 3 5 7 8"
      ]
     },
     "metadata": {},
     "output_type": "display_data"
    }
   ],
   "source": [
    "z = c(x,y)\n",
    "z[3]\n",
    "z[-1]\n",
    "z.indices = 1:5\n",
    "z[z.indices]"
   ]
  },
  {
   "cell_type": "markdown",
   "metadata": {},
   "source": [
    "#### which(): \n",
    "\"Which\" is the default conditioning function in R. Given a vector and a condition, it will spit back out the indices of the vector that satisfy the condition. It's an awesome function and has served me well over the years. It's often used for subsetting a variable to get the elements that satisfy a condition. "
   ]
  },
  {
   "cell_type": "code",
   "execution_count": 5,
   "metadata": {},
   "outputs": [
    {
     "data": {
      "text/html": [
       "<ol class=list-inline>\n",
       "\t<li>1</li>\n",
       "\t<li>2</li>\n",
       "\t<li>3</li>\n",
       "\t<li>4</li>\n",
       "\t<li>5</li>\n",
       "\t<li>6</li>\n",
       "</ol>\n"
      ],
      "text/latex": [
       "\\begin{enumerate*}\n",
       "\\item 1\n",
       "\\item 2\n",
       "\\item 3\n",
       "\\item 4\n",
       "\\item 5\n",
       "\\item 6\n",
       "\\end{enumerate*}\n"
      ],
      "text/markdown": [
       "1. 1\n",
       "2. 2\n",
       "3. 3\n",
       "4. 4\n",
       "5. 5\n",
       "6. 6\n",
       "\n",
       "\n"
      ],
      "text/plain": [
       "[1] 1 2 3 4 5 6"
      ]
     },
     "metadata": {},
     "output_type": "display_data"
    },
    {
     "data": {
      "text/html": [
       "<ol class=list-inline>\n",
       "\t<li>1</li>\n",
       "\t<li>3</li>\n",
       "\t<li>5</li>\n",
       "\t<li>7</li>\n",
       "\t<li>8</li>\n",
       "\t<li>9</li>\n",
       "</ol>\n"
      ],
      "text/latex": [
       "\\begin{enumerate*}\n",
       "\\item 1\n",
       "\\item 3\n",
       "\\item 5\n",
       "\\item 7\n",
       "\\item 8\n",
       "\\item 9\n",
       "\\end{enumerate*}\n"
      ],
      "text/markdown": [
       "1. 1\n",
       "2. 3\n",
       "3. 5\n",
       "4. 7\n",
       "5. 8\n",
       "6. 9\n",
       "\n",
       "\n"
      ],
      "text/plain": [
       "[1] 1 3 5 7 8 9"
      ]
     },
     "metadata": {},
     "output_type": "display_data"
    }
   ],
   "source": [
    "which(z<10)\n",
    "z[which(z<10)]"
   ]
  },
  {
   "cell_type": "markdown",
   "metadata": {},
   "source": [
    "#### length(): \n",
    "Like a stop sign, the length() function is both self-explanatory and tremendously useful. This function gives you the length of an object you pass its way. I usually end up using length to initialize vectors of a particular length using the \"vector\" or \"rep\" functions or combined with \"which\" to calculate percentages. Here are examples of both."
   ]
  },
  {
   "cell_type": "code",
   "execution_count": 6,
   "metadata": {},
   "outputs": [
    {
     "data": {
      "text/html": [
       "<ol class=list-inline>\n",
       "\t<li>0</li>\n",
       "\t<li>0</li>\n",
       "\t<li>0</li>\n",
       "\t<li>0</li>\n",
       "\t<li>0</li>\n",
       "\t<li>0</li>\n",
       "\t<li>0</li>\n",
       "\t<li>0</li>\n",
       "\t<li>0</li>\n",
       "\t<li>0</li>\n",
       "</ol>\n"
      ],
      "text/latex": [
       "\\begin{enumerate*}\n",
       "\\item 0\n",
       "\\item 0\n",
       "\\item 0\n",
       "\\item 0\n",
       "\\item 0\n",
       "\\item 0\n",
       "\\item 0\n",
       "\\item 0\n",
       "\\item 0\n",
       "\\item 0\n",
       "\\end{enumerate*}\n"
      ],
      "text/markdown": [
       "1. 0\n",
       "2. 0\n",
       "3. 0\n",
       "4. 0\n",
       "5. 0\n",
       "6. 0\n",
       "7. 0\n",
       "8. 0\n",
       "9. 0\n",
       "10. 0\n",
       "\n",
       "\n"
      ],
      "text/plain": [
       " [1] 0 0 0 0 0 0 0 0 0 0"
      ]
     },
     "metadata": {},
     "output_type": "display_data"
    },
    {
     "data": {
      "text/html": [
       "0.6"
      ],
      "text/latex": [
       "0.6"
      ],
      "text/markdown": [
       "0.6"
      ],
      "text/plain": [
       "[1] 0.6"
      ]
     },
     "metadata": {},
     "output_type": "display_data"
    }
   ],
   "source": [
    "rep(0, length(z))\n",
    "length(which(z<10))/length(z)"
   ]
  },
  {
   "cell_type": "markdown",
   "metadata": {},
   "source": [
    "#### seq(): \n",
    "Similar to c(),:, and rep(), seq() is a function for creating vectors. This one's a little more flexible though since it allows for a more programatic description of the vector you're creating. By setting parameters like start, end, length.out, and by, you can can specify particularly useful vectors."
   ]
  },
  {
   "cell_type": "code",
   "execution_count": 7,
   "metadata": {},
   "outputs": [
    {
     "data": {
      "text/html": [
       "<ol class=list-inline>\n",
       "\t<li>0</li>\n",
       "\t<li>1</li>\n",
       "\t<li>2</li>\n",
       "\t<li>3</li>\n",
       "\t<li>4</li>\n",
       "\t<li>5</li>\n",
       "\t<li>6</li>\n",
       "\t<li>7</li>\n",
       "\t<li>8</li>\n",
       "\t<li>9</li>\n",
       "\t<li>10</li>\n",
       "</ol>\n"
      ],
      "text/latex": [
       "\\begin{enumerate*}\n",
       "\\item 0\n",
       "\\item 1\n",
       "\\item 2\n",
       "\\item 3\n",
       "\\item 4\n",
       "\\item 5\n",
       "\\item 6\n",
       "\\item 7\n",
       "\\item 8\n",
       "\\item 9\n",
       "\\item 10\n",
       "\\end{enumerate*}\n"
      ],
      "text/markdown": [
       "1. 0\n",
       "2. 1\n",
       "3. 2\n",
       "4. 3\n",
       "5. 4\n",
       "6. 5\n",
       "7. 6\n",
       "8. 7\n",
       "9. 8\n",
       "10. 9\n",
       "11. 10\n",
       "\n",
       "\n"
      ],
      "text/plain": [
       " [1]  0  1  2  3  4  5  6  7  8  9 10"
      ]
     },
     "metadata": {},
     "output_type": "display_data"
    },
    {
     "data": {
      "text/html": [
       "<ol class=list-inline>\n",
       "\t<li>0</li>\n",
       "\t<li>2</li>\n",
       "\t<li>4</li>\n",
       "\t<li>6</li>\n",
       "\t<li>8</li>\n",
       "\t<li>10</li>\n",
       "</ol>\n"
      ],
      "text/latex": [
       "\\begin{enumerate*}\n",
       "\\item 0\n",
       "\\item 2\n",
       "\\item 4\n",
       "\\item 6\n",
       "\\item 8\n",
       "\\item 10\n",
       "\\end{enumerate*}\n"
      ],
      "text/markdown": [
       "1. 0\n",
       "2. 2\n",
       "3. 4\n",
       "4. 6\n",
       "5. 8\n",
       "6. 10\n",
       "\n",
       "\n"
      ],
      "text/plain": [
       "[1]  0  2  4  6  8 10"
      ]
     },
     "metadata": {},
     "output_type": "display_data"
    },
    {
     "data": {
      "text/html": [
       "<ol class=list-inline>\n",
       "\t<li>1000</li>\n",
       "\t<li>750</li>\n",
       "\t<li>500</li>\n",
       "\t<li>250</li>\n",
       "\t<li>0</li>\n",
       "</ol>\n"
      ],
      "text/latex": [
       "\\begin{enumerate*}\n",
       "\\item 1000\n",
       "\\item 750\n",
       "\\item 500\n",
       "\\item 250\n",
       "\\item 0\n",
       "\\end{enumerate*}\n"
      ],
      "text/markdown": [
       "1. 1000\n",
       "2. 750\n",
       "3. 500\n",
       "4. 250\n",
       "5. 0\n",
       "\n",
       "\n"
      ],
      "text/plain": [
       "[1] 1000  750  500  250    0"
      ]
     },
     "metadata": {},
     "output_type": "display_data"
    }
   ],
   "source": [
    "seq(from=0, to =10)\n",
    "seq(from=0, to=10, by=2)\n",
    "seq(from =1000, to = 0, length.out = 5)"
   ]
  },
  {
   "cell_type": "markdown",
   "metadata": {},
   "source": [
    "#### summary\n",
    "Summary is a tremendously useful function that produces the five-number summary, often called the Tukey five-number summary after the hallowed statistician John Tukey, and the mean. It contains the minimum, first quartile, median, mean, third quartile, and the maximum. It's a numerical equivalent to a box plot and great for getting a rough sense of what kind of data you're dealing with. \n",
    "\n",
    "The function I'm using below, \"runif\" comes from a set of some of R's best functions: functions that randomly sample from given distributions. This randomly samples from a uniform distribution 1000 samples between 0 and 100. As expected, each summary number is close to its quantile."
   ]
  },
  {
   "cell_type": "code",
   "execution_count": 8,
   "metadata": {},
   "outputs": [
    {
     "data": {
      "text/plain": [
       "    Min.  1st Qu.   Median     Mean  3rd Qu.     Max. \n",
       " 0.08342 26.83000 51.24000 50.11000 73.94000 99.90000 "
      ]
     },
     "metadata": {},
     "output_type": "display_data"
    }
   ],
   "source": [
    "r=runif(1000, 0 ,100)\n",
    "summary(r)"
   ]
  },
  {
   "cell_type": "markdown",
   "metadata": {},
   "source": [
    "#### cut\n",
    "Cut is one of my favorite functions for grouping a quantitative variable into categorical bins, something that is done all the time in visualization to make differences, often regional ones, more immediately noticable. \n",
    "\n",
    "You provide a vector and either a number of bins you want the vector cut into or the contiguous ranges making up the bins, and cut does the rest.  Below, I'm using another useful function for \"getting a sense of things\" called table. This function builds a histogram of data, telling you for each value observed, the number vector elements with that value. This shows the different bins and the number of elements that fell into each bin. "
   ]
  },
  {
   "cell_type": "code",
   "execution_count": 9,
   "metadata": {},
   "outputs": [
    {
     "data": {
      "text/plain": [
       "\n",
       "(-0.0164,33.4]    (33.4,66.6]     (66.6,100] \n",
       "           324            350            326 "
      ]
     },
     "metadata": {},
     "output_type": "display_data"
    }
   ],
   "source": [
    "table(cut(r, breaks=3))"
   ]
  },
  {
   "cell_type": "markdown",
   "metadata": {},
   "source": [
    "#### data.frame\n",
    "This function will come up \\*all\\* \\*the\\* \\*time\\*, especially if you're using the tidyverse functions we'll cover next. It allows for the construction of a data frame object, either from a matrix or separate columns, that can and should be used in just about any kind of R work. It also allows you to easily rename your columns. Rnorm is the corresponding runif function for the normal distribution, where the first parameter is the number of draws, the second is the mean, and the third is the standard deviation."
   ]
  },
  {
   "cell_type": "code",
   "execution_count": 10,
   "metadata": {},
   "outputs": [
    {
     "data": {
      "text/html": [
       "<table>\n",
       "<thead><tr><th scope=col>first.column</th><th scope=col>second.column</th></tr></thead>\n",
       "<tbody>\n",
       "\t<tr><td> 0.18738240</td><td> 1.03612467</td></tr>\n",
       "\t<tr><td> 1.14704792</td><td> 0.84339603</td></tr>\n",
       "\t<tr><td>-0.12375013</td><td>-0.63599026</td></tr>\n",
       "\t<tr><td> 1.31218888</td><td>-1.09399721</td></tr>\n",
       "\t<tr><td> 0.01028308</td><td>-1.53529143</td></tr>\n",
       "\t<tr><td> 0.75385574</td><td>-0.53025956</td></tr>\n",
       "\t<tr><td>-0.82837066</td><td>-0.08924672</td></tr>\n",
       "\t<tr><td>-1.01065483</td><td> 1.42300416</td></tr>\n",
       "\t<tr><td> 0.65375157</td><td> 0.57062321</td></tr>\n",
       "\t<tr><td>-2.01708695</td><td> 0.50513973</td></tr>\n",
       "</tbody>\n",
       "</table>\n"
      ],
      "text/latex": [
       "\\begin{tabular}{r|ll}\n",
       " first.column & second.column\\\\\n",
       "\\hline\n",
       "\t  0.18738240 &  1.03612467\\\\\n",
       "\t  1.14704792 &  0.84339603\\\\\n",
       "\t -0.12375013 & -0.63599026\\\\\n",
       "\t  1.31218888 & -1.09399721\\\\\n",
       "\t  0.01028308 & -1.53529143\\\\\n",
       "\t  0.75385574 & -0.53025956\\\\\n",
       "\t -0.82837066 & -0.08924672\\\\\n",
       "\t -1.01065483 &  1.42300416\\\\\n",
       "\t  0.65375157 &  0.57062321\\\\\n",
       "\t -2.01708695 &  0.50513973\\\\\n",
       "\\end{tabular}\n"
      ],
      "text/markdown": [
       "\n",
       "first.column | second.column | \n",
       "|---|---|---|---|---|---|---|---|---|---|\n",
       "|  0.18738240 |  1.03612467 | \n",
       "|  1.14704792 |  0.84339603 | \n",
       "| -0.12375013 | -0.63599026 | \n",
       "|  1.31218888 | -1.09399721 | \n",
       "|  0.01028308 | -1.53529143 | \n",
       "|  0.75385574 | -0.53025956 | \n",
       "| -0.82837066 | -0.08924672 | \n",
       "| -1.01065483 |  1.42300416 | \n",
       "|  0.65375157 |  0.57062321 | \n",
       "| -2.01708695 |  0.50513973 | \n",
       "\n",
       "\n"
      ],
      "text/plain": [
       "   first.column second.column\n",
       "1   0.18738240   1.03612467  \n",
       "2   1.14704792   0.84339603  \n",
       "3  -0.12375013  -0.63599026  \n",
       "4   1.31218888  -1.09399721  \n",
       "5   0.01028308  -1.53529143  \n",
       "6   0.75385574  -0.53025956  \n",
       "7  -0.82837066  -0.08924672  \n",
       "8  -1.01065483   1.42300416  \n",
       "9   0.65375157   0.57062321  \n",
       "10 -2.01708695   0.50513973  "
      ]
     },
     "metadata": {},
     "output_type": "display_data"
    }
   ],
   "source": [
    "X=data.frame(first.column=rnorm(10, 0,1), second.column=rnorm(10, 0,1))\n",
    "X"
   ]
  },
  {
   "cell_type": "markdown",
   "metadata": {},
   "source": [
    "#### \\$\n",
    "How do you get that sweet, sweet data out of a data frame when you need it? You can always use [] to slice along the dimension you want (first dimension for rows, second dimension for columns), but if your columns are named, your code will be a lot more readable if you use the \\$ to select by the name of your variable. Notice the two selections below are identical. "
   ]
  },
  {
   "cell_type": "code",
   "execution_count": 11,
   "metadata": {},
   "outputs": [
    {
     "data": {
      "text/html": [
       "<ol class=list-inline>\n",
       "\t<li>0.187382399906966</li>\n",
       "\t<li>1.14704791902785</li>\n",
       "\t<li>-0.123750128881493</li>\n",
       "\t<li>1.31218887624548</li>\n",
       "\t<li>0.010283076629988</li>\n",
       "\t<li>0.753855743567382</li>\n",
       "\t<li>-0.828370655605754</li>\n",
       "\t<li>-1.01065483494372</li>\n",
       "\t<li>0.653751573267534</li>\n",
       "\t<li>-2.01708694621103</li>\n",
       "</ol>\n"
      ],
      "text/latex": [
       "\\begin{enumerate*}\n",
       "\\item 0.187382399906966\n",
       "\\item 1.14704791902785\n",
       "\\item -0.123750128881493\n",
       "\\item 1.31218887624548\n",
       "\\item 0.010283076629988\n",
       "\\item 0.753855743567382\n",
       "\\item -0.828370655605754\n",
       "\\item -1.01065483494372\n",
       "\\item 0.653751573267534\n",
       "\\item -2.01708694621103\n",
       "\\end{enumerate*}\n"
      ],
      "text/markdown": [
       "1. 0.187382399906966\n",
       "2. 1.14704791902785\n",
       "3. -0.123750128881493\n",
       "4. 1.31218887624548\n",
       "5. 0.010283076629988\n",
       "6. 0.753855743567382\n",
       "7. -0.828370655605754\n",
       "8. -1.01065483494372\n",
       "9. 0.653751573267534\n",
       "10. -2.01708694621103\n",
       "\n",
       "\n"
      ],
      "text/plain": [
       " [1]  0.18738240  1.14704792 -0.12375013  1.31218888  0.01028308  0.75385574\n",
       " [7] -0.82837066 -1.01065483  0.65375157 -2.01708695"
      ]
     },
     "metadata": {},
     "output_type": "display_data"
    },
    {
     "data": {
      "text/html": [
       "<ol class=list-inline>\n",
       "\t<li>0.187382399906966</li>\n",
       "\t<li>1.14704791902785</li>\n",
       "\t<li>-0.123750128881493</li>\n",
       "\t<li>1.31218887624548</li>\n",
       "\t<li>0.010283076629988</li>\n",
       "\t<li>0.753855743567382</li>\n",
       "\t<li>-0.828370655605754</li>\n",
       "\t<li>-1.01065483494372</li>\n",
       "\t<li>0.653751573267534</li>\n",
       "\t<li>-2.01708694621103</li>\n",
       "</ol>\n"
      ],
      "text/latex": [
       "\\begin{enumerate*}\n",
       "\\item 0.187382399906966\n",
       "\\item 1.14704791902785\n",
       "\\item -0.123750128881493\n",
       "\\item 1.31218887624548\n",
       "\\item 0.010283076629988\n",
       "\\item 0.753855743567382\n",
       "\\item -0.828370655605754\n",
       "\\item -1.01065483494372\n",
       "\\item 0.653751573267534\n",
       "\\item -2.01708694621103\n",
       "\\end{enumerate*}\n"
      ],
      "text/markdown": [
       "1. 0.187382399906966\n",
       "2. 1.14704791902785\n",
       "3. -0.123750128881493\n",
       "4. 1.31218887624548\n",
       "5. 0.010283076629988\n",
       "6. 0.753855743567382\n",
       "7. -0.828370655605754\n",
       "8. -1.01065483494372\n",
       "9. 0.653751573267534\n",
       "10. -2.01708694621103\n",
       "\n",
       "\n"
      ],
      "text/plain": [
       " [1]  0.18738240  1.14704792 -0.12375013  1.31218888  0.01028308  0.75385574\n",
       " [7] -0.82837066 -1.01065483  0.65375157 -2.01708695"
      ]
     },
     "metadata": {},
     "output_type": "display_data"
    }
   ],
   "source": [
    "X$first.column\n",
    "X[,1]"
   ]
  },
  {
   "cell_type": "markdown",
   "metadata": {},
   "source": [
    "#### na.omit \n",
    "If you have NA's in your data that you want to get rid of, na.omit is a great function to use.\n",
    "\n",
    "As you can see in the dataframe below, because rows 6-10 had NAs in them, they were thrown out of the final product. The issue with na.omit is that we lost perfect good second.column data this way. If there was something non-random about the missingness in the first.column or if 90% of the dataset was missing, we would want to be more careful than this. "
   ]
  },
  {
   "cell_type": "code",
   "execution_count": 12,
   "metadata": {},
   "outputs": [
    {
     "data": {
      "text/html": [
       "<table>\n",
       "<thead><tr><th></th><th scope=col>first.column</th><th scope=col>second.column</th></tr></thead>\n",
       "<tbody>\n",
       "\t<tr><th scope=row>1</th><td>1 </td><td> 1</td></tr>\n",
       "\t<tr><th scope=row>2</th><td>2 </td><td> 2</td></tr>\n",
       "\t<tr><th scope=row>3</th><td>3 </td><td> 3</td></tr>\n",
       "\t<tr><th scope=row>4</th><td>4 </td><td> 4</td></tr>\n",
       "\t<tr><th scope=row>5</th><td>5 </td><td> 5</td></tr>\n",
       "\t<tr><th scope=row>11</th><td>1 </td><td>11</td></tr>\n",
       "\t<tr><th scope=row>12</th><td>2 </td><td>12</td></tr>\n",
       "\t<tr><th scope=row>13</th><td>3 </td><td>13</td></tr>\n",
       "\t<tr><th scope=row>14</th><td>4 </td><td>14</td></tr>\n",
       "\t<tr><th scope=row>15</th><td>5 </td><td>15</td></tr>\n",
       "</tbody>\n",
       "</table>\n"
      ],
      "text/latex": [
       "\\begin{tabular}{r|ll}\n",
       "  & first.column & second.column\\\\\n",
       "\\hline\n",
       "\t1 & 1  &  1\\\\\n",
       "\t2 & 2  &  2\\\\\n",
       "\t3 & 3  &  3\\\\\n",
       "\t4 & 4  &  4\\\\\n",
       "\t5 & 5  &  5\\\\\n",
       "\t11 & 1  & 11\\\\\n",
       "\t12 & 2  & 12\\\\\n",
       "\t13 & 3  & 13\\\\\n",
       "\t14 & 4  & 14\\\\\n",
       "\t15 & 5  & 15\\\\\n",
       "\\end{tabular}\n"
      ],
      "text/markdown": [
       "\n",
       "| <!--/--> | first.column | second.column | \n",
       "|---|---|---|---|---|---|---|---|---|---|\n",
       "| 1 | 1  |  1 | \n",
       "| 2 | 2  |  2 | \n",
       "| 3 | 3  |  3 | \n",
       "| 4 | 4  |  4 | \n",
       "| 5 | 5  |  5 | \n",
       "| 11 | 1  | 11 | \n",
       "| 12 | 2  | 12 | \n",
       "| 13 | 3  | 13 | \n",
       "| 14 | 4  | 14 | \n",
       "| 15 | 5  | 15 | \n",
       "\n",
       "\n"
      ],
      "text/plain": [
       "   first.column second.column\n",
       "1  1             1           \n",
       "2  2             2           \n",
       "3  3             3           \n",
       "4  4             4           \n",
       "5  5             5           \n",
       "11 1            11           \n",
       "12 2            12           \n",
       "13 3            13           \n",
       "14 4            14           \n",
       "15 5            15           "
      ]
     },
     "metadata": {},
     "output_type": "display_data"
    }
   ],
   "source": [
    "x = c(1:5, rep(NA, 5), 1:5)\n",
    "y = c(1:15)\n",
    "X = data.frame(first.column=x, second.column=y)\n",
    "na.omit(X)"
   ]
  },
  {
   "cell_type": "markdown",
   "metadata": {},
   "source": [
    "### Tidyverse functions\n",
    "The tidyverse is more or less an extremely useful dialect of standard R. It's in R and it's based on R but the words and grammar you use are different in intentional ways. Championed by Hadley Wickham but developed by a huge host of other people, everyone should be using the tidyverse in their work at one point or another. Maybe not for everything but used in the right places, these functions are huge timesavers. Here I'll go over a couple you'll see in repeat in the M-lab tutorial. Namely:\n",
    "filter, mutate, group_by, summarise,%>%, ymd, left_join, ggplot"
   ]
  },
  {
   "cell_type": "markdown",
   "metadata": {},
   "source": [
    "#### filter, mutate, group_by, summarise\n",
    "The tidyverse introduces these four functions, which are some of my most used functions in R. Each takes a data set and transforms it in a specified way. Again, they don't _really_ add functionality to R. Everything here can already be done in other ways. But they do make their tasks simpler, more readable, and more readily included in workflows.\n",
    "\n",
    "I'm including all four of these verbs in this section because they work so closely with one another, some depending necesarily on the others, that the whole \"suite\" almost feels like a single function. \n",
    "\n",
    "What these functions do is largely intuitive from their names.\n",
    "\n",
    "#### filter \n",
    "filter filters data and is in many ways equivalent to using \\[\\] and which() in conjuction. To use this with a dataset, like our X, you include the dataset and a condition on one of the columns of the dataset that evaluates to TRUE or FALSE. filter then returns the rows of the dataset that satisfy the condition. Here it is next to a which call doing the same thing. "
   ]
  },
  {
   "cell_type": "code",
   "execution_count": 13,
   "metadata": {},
   "outputs": [
    {
     "data": {
      "text/html": [
       "<table>\n",
       "<thead><tr><th></th><th scope=col>first.column</th><th scope=col>second.column</th></tr></thead>\n",
       "<tbody>\n",
       "\t<tr><th scope=row>1</th><td>1 </td><td> 1</td></tr>\n",
       "\t<tr><th scope=row>2</th><td>2 </td><td> 2</td></tr>\n",
       "\t<tr><th scope=row>3</th><td>3 </td><td> 3</td></tr>\n",
       "\t<tr><th scope=row>4</th><td>4 </td><td> 4</td></tr>\n",
       "\t<tr><th scope=row>5</th><td>5 </td><td> 5</td></tr>\n",
       "\t<tr><th scope=row>11</th><td>1 </td><td>11</td></tr>\n",
       "\t<tr><th scope=row>12</th><td>2 </td><td>12</td></tr>\n",
       "\t<tr><th scope=row>13</th><td>3 </td><td>13</td></tr>\n",
       "\t<tr><th scope=row>14</th><td>4 </td><td>14</td></tr>\n",
       "\t<tr><th scope=row>15</th><td>5 </td><td>15</td></tr>\n",
       "</tbody>\n",
       "</table>\n"
      ],
      "text/latex": [
       "\\begin{tabular}{r|ll}\n",
       "  & first.column & second.column\\\\\n",
       "\\hline\n",
       "\t1 & 1  &  1\\\\\n",
       "\t2 & 2  &  2\\\\\n",
       "\t3 & 3  &  3\\\\\n",
       "\t4 & 4  &  4\\\\\n",
       "\t5 & 5  &  5\\\\\n",
       "\t11 & 1  & 11\\\\\n",
       "\t12 & 2  & 12\\\\\n",
       "\t13 & 3  & 13\\\\\n",
       "\t14 & 4  & 14\\\\\n",
       "\t15 & 5  & 15\\\\\n",
       "\\end{tabular}\n"
      ],
      "text/markdown": [
       "\n",
       "| <!--/--> | first.column | second.column | \n",
       "|---|---|---|---|---|---|---|---|---|---|\n",
       "| 1 | 1  |  1 | \n",
       "| 2 | 2  |  2 | \n",
       "| 3 | 3  |  3 | \n",
       "| 4 | 4  |  4 | \n",
       "| 5 | 5  |  5 | \n",
       "| 11 | 1  | 11 | \n",
       "| 12 | 2  | 12 | \n",
       "| 13 | 3  | 13 | \n",
       "| 14 | 4  | 14 | \n",
       "| 15 | 5  | 15 | \n",
       "\n",
       "\n"
      ],
      "text/plain": [
       "   first.column second.column\n",
       "1  1             1           \n",
       "2  2             2           \n",
       "3  3             3           \n",
       "4  4             4           \n",
       "5  5             5           \n",
       "11 1            11           \n",
       "12 2            12           \n",
       "13 3            13           \n",
       "14 4            14           \n",
       "15 5            15           "
      ]
     },
     "metadata": {},
     "output_type": "display_data"
    },
    {
     "data": {
      "text/html": [
       "<table>\n",
       "<thead><tr><th scope=col>first.column</th><th scope=col>second.column</th></tr></thead>\n",
       "<tbody>\n",
       "\t<tr><td>1 </td><td> 1</td></tr>\n",
       "\t<tr><td>2 </td><td> 2</td></tr>\n",
       "\t<tr><td>3 </td><td> 3</td></tr>\n",
       "\t<tr><td>4 </td><td> 4</td></tr>\n",
       "\t<tr><td>5 </td><td> 5</td></tr>\n",
       "\t<tr><td>1 </td><td>11</td></tr>\n",
       "\t<tr><td>2 </td><td>12</td></tr>\n",
       "\t<tr><td>3 </td><td>13</td></tr>\n",
       "\t<tr><td>4 </td><td>14</td></tr>\n",
       "\t<tr><td>5 </td><td>15</td></tr>\n",
       "</tbody>\n",
       "</table>\n"
      ],
      "text/latex": [
       "\\begin{tabular}{r|ll}\n",
       " first.column & second.column\\\\\n",
       "\\hline\n",
       "\t 1  &  1\\\\\n",
       "\t 2  &  2\\\\\n",
       "\t 3  &  3\\\\\n",
       "\t 4  &  4\\\\\n",
       "\t 5  &  5\\\\\n",
       "\t 1  & 11\\\\\n",
       "\t 2  & 12\\\\\n",
       "\t 3  & 13\\\\\n",
       "\t 4  & 14\\\\\n",
       "\t 5  & 15\\\\\n",
       "\\end{tabular}\n"
      ],
      "text/markdown": [
       "\n",
       "first.column | second.column | \n",
       "|---|---|---|---|---|---|---|---|---|---|\n",
       "| 1  |  1 | \n",
       "| 2  |  2 | \n",
       "| 3  |  3 | \n",
       "| 4  |  4 | \n",
       "| 5  |  5 | \n",
       "| 1  | 11 | \n",
       "| 2  | 12 | \n",
       "| 3  | 13 | \n",
       "| 4  | 14 | \n",
       "| 5  | 15 | \n",
       "\n",
       "\n"
      ],
      "text/plain": [
       "   first.column second.column\n",
       "1  1             1           \n",
       "2  2             2           \n",
       "3  3             3           \n",
       "4  4             4           \n",
       "5  5             5           \n",
       "6  1            11           \n",
       "7  2            12           \n",
       "8  3            13           \n",
       "9  4            14           \n",
       "10 5            15           "
      ]
     },
     "metadata": {},
     "output_type": "display_data"
    }
   ],
   "source": [
    "X[which(is.na(X$first.column)==FALSE),]\n",
    "filter(X, is.na(first.column)==FALSE)"
   ]
  },
  {
   "cell_type": "markdown",
   "metadata": {},
   "source": [
    "#### mutate\n",
    "Mutate is a useful function for building workflows because it allows you to change the columns of a dataset by applying functions to them. This becomes especially useful when combined with the pipe operator I'll introduce in a second. \n",
    "\n",
    "Mutate, like filter, takes a data.frame. Instead of a condition, however, it now expects a function called on a column of the data.frame. It will apply the function to each of the rows of the data.frame (the way many parallel processing methods work), and it returns a data frame with same number of rows as the original but with one extra column corresponding to the newly transformed column. You can and should name the new column in the function call to avoid the function call becoming the name of the column"
   ]
  },
  {
   "cell_type": "code",
   "execution_count": 14,
   "metadata": {},
   "outputs": [
    {
     "data": {
      "text/html": [
       "<table>\n",
       "<thead><tr><th scope=col>first.column</th><th scope=col>second.column</th><th scope=col>third.column</th><th scope=col>transformed.column</th></tr></thead>\n",
       "<tbody>\n",
       "\t<tr><td>1          </td><td> 1         </td><td> 0.3797593 </td><td>  0.4297593</td></tr>\n",
       "\t<tr><td>2          </td><td> 2         </td><td> 0.8734162 </td><td>  1.7968323</td></tr>\n",
       "\t<tr><td>3          </td><td> 3         </td><td> 0.4427871 </td><td>  1.3783613</td></tr>\n",
       "\t<tr><td>4          </td><td> 4         </td><td> 0.7031164 </td><td>  2.8624656</td></tr>\n",
       "\t<tr><td>5          </td><td> 5         </td><td> 0.1153284 </td><td>  0.6266419</td></tr>\n",
       "\t<tr><td>1          </td><td>11         </td><td>-0.3376468 </td><td> -3.6641144</td></tr>\n",
       "\t<tr><td>2          </td><td>12         </td><td> 0.3382315 </td><td>  4.1087782</td></tr>\n",
       "\t<tr><td>3          </td><td>13         </td><td>-1.6598457 </td><td>-21.5279941</td></tr>\n",
       "\t<tr><td>4          </td><td>14         </td><td> 0.1602044 </td><td>  2.2928613</td></tr>\n",
       "\t<tr><td>5          </td><td>15         </td><td>-0.5579384 </td><td> -8.3190754</td></tr>\n",
       "</tbody>\n",
       "</table>\n"
      ],
      "text/latex": [
       "\\begin{tabular}{r|llll}\n",
       " first.column & second.column & third.column & transformed.column\\\\\n",
       "\\hline\n",
       "\t 1           &  1          &  0.3797593  &   0.4297593\\\\\n",
       "\t 2           &  2          &  0.8734162  &   1.7968323\\\\\n",
       "\t 3           &  3          &  0.4427871  &   1.3783613\\\\\n",
       "\t 4           &  4          &  0.7031164  &   2.8624656\\\\\n",
       "\t 5           &  5          &  0.1153284  &   0.6266419\\\\\n",
       "\t 1           & 11          & -0.3376468  &  -3.6641144\\\\\n",
       "\t 2           & 12          &  0.3382315  &   4.1087782\\\\\n",
       "\t 3           & 13          & -1.6598457  & -21.5279941\\\\\n",
       "\t 4           & 14          &  0.1602044  &   2.2928613\\\\\n",
       "\t 5           & 15          & -0.5579384  &  -8.3190754\\\\\n",
       "\\end{tabular}\n"
      ],
      "text/markdown": [
       "\n",
       "first.column | second.column | third.column | transformed.column | \n",
       "|---|---|---|---|---|---|---|---|---|---|\n",
       "| 1           |  1          |  0.3797593  |   0.4297593 | \n",
       "| 2           |  2          |  0.8734162  |   1.7968323 | \n",
       "| 3           |  3          |  0.4427871  |   1.3783613 | \n",
       "| 4           |  4          |  0.7031164  |   2.8624656 | \n",
       "| 5           |  5          |  0.1153284  |   0.6266419 | \n",
       "| 1           | 11          | -0.3376468  |  -3.6641144 | \n",
       "| 2           | 12          |  0.3382315  |   4.1087782 | \n",
       "| 3           | 13          | -1.6598457  | -21.5279941 | \n",
       "| 4           | 14          |  0.1602044  |   2.2928613 | \n",
       "| 5           | 15          | -0.5579384  |  -8.3190754 | \n",
       "\n",
       "\n"
      ],
      "text/plain": [
       "   first.column second.column third.column transformed.column\n",
       "1  1             1             0.3797593     0.4297593       \n",
       "2  2             2             0.8734162     1.7968323       \n",
       "3  3             3             0.4427871     1.3783613       \n",
       "4  4             4             0.7031164     2.8624656       \n",
       "5  5             5             0.1153284     0.6266419       \n",
       "6  1            11            -0.3376468    -3.6641144       \n",
       "7  2            12             0.3382315     4.1087782       \n",
       "8  3            13            -1.6598457   -21.5279941       \n",
       "9  4            14             0.1602044     2.2928613       \n",
       "10 5            15            -0.5579384    -8.3190754       "
      ]
     },
     "metadata": {},
     "output_type": "display_data"
    }
   ],
   "source": [
    "Y<-data.frame(X, third.column=rnorm(nrow(X)))\n",
    "\n",
    "Z<-mutate(filter(Y, is.na(first.column)==FALSE), transformed.column=second.column*third.column+.05)\n",
    "Z"
   ]
  },
  {
   "cell_type": "markdown",
   "metadata": {},
   "source": [
    "#### group_by and summarise\n",
    "If you see one of these functions, you're almost guaranteed to see the other just around the corner. The reason, in this case, is simple: group_by groups your data into buckets and summarise summarises the results in a given way within each of those buckets. You can think of summarise as doing what mutate does, but instead of applying the function to each row independently, summarise reduces the size of the dataset by aggregating rows together using a function.\n",
    "\n",
    "This combo is tremendously useful for understanding how different subsets of your data differ, for producing comparative statistics, and it proves vital for doing those things visually using ggplot as well. \n",
    "\n",
    "Using our newly transformed dataset, let's see what that looks like. First, I'm creating an index column, using mutate, that corresponds to whether the second column is greater than or less than 10. Then, I'm going to group_by column and calculate the mean of transformed.column for each group. We know the second group's mean will have a larger absolute value because the transformed.mean is directly related to the value of the second column.\n"
   ]
  },
  {
   "cell_type": "code",
   "execution_count": 15,
   "metadata": {},
   "outputs": [
    {
     "data": {
      "text/html": [
       "<table>\n",
       "<thead><tr><th scope=col>index.column</th><th scope=col>avg</th></tr></thead>\n",
       "<tbody>\n",
       "\t<tr><td>greater  </td><td>-5.421909</td></tr>\n",
       "\t<tr><td>less than</td><td> 1.418812</td></tr>\n",
       "</tbody>\n",
       "</table>\n"
      ],
      "text/latex": [
       "\\begin{tabular}{r|ll}\n",
       " index.column & avg\\\\\n",
       "\\hline\n",
       "\t greater   & -5.421909\\\\\n",
       "\t less than &  1.418812\\\\\n",
       "\\end{tabular}\n"
      ],
      "text/markdown": [
       "\n",
       "index.column | avg | \n",
       "|---|---|\n",
       "| greater   | -5.421909 | \n",
       "| less than |  1.418812 | \n",
       "\n",
       "\n"
      ],
      "text/plain": [
       "  index.column avg      \n",
       "1 greater      -5.421909\n",
       "2 less than     1.418812"
      ]
     },
     "metadata": {},
     "output_type": "display_data"
    }
   ],
   "source": [
    "summarise(group_by(mutate(Z, index.column=ifelse(second.column>10, \"greater\", \"less than\"))\n",
    "                   , index.column), avg=mean(transformed.column))"
   ]
  },
  {
   "cell_type": "markdown",
   "metadata": {},
   "source": [
    "#### %>%\n",
    "The problem now is that things are starting to get unreadable. We're burying functions in functions and starting to lose the ability to read our code, one of the primary benefits of using the tidyverse. \n",
    "\n",
    "That's where this odd-looking fellow comes in. This is the pipe operator in R. It's used to clean up code and make it more readable. It takes the output of what's on the left of it and passes it to the function on its right, unwrapping what might be many nested parentheses. \n",
    "\n",
    "I'm going to re-write the last group_by/summarise expression using pipes instead of parentheses. Now, the difference in their legibility is clear, but another benefit is that the order of the code matches the order of its execution. \n",
    "\n",
    "English is read left to right and so is R. But above, the first function you see is \"summarise\" which is actually the last function to be executed. On the other hand, here, what you see is what's happening. Your data gets grouped first then summarised. You can imagine how useful this gets when you start including more operations in your pipeline.\n",
    "\n"
   ]
  },
  {
   "cell_type": "code",
   "execution_count": 16,
   "metadata": {},
   "outputs": [
    {
     "data": {
      "text/html": [
       "<table>\n",
       "<thead><tr><th scope=col>index.column</th><th scope=col>avg</th></tr></thead>\n",
       "<tbody>\n",
       "\t<tr><td>greater  </td><td>-5.421909</td></tr>\n",
       "\t<tr><td>less than</td><td> 1.418812</td></tr>\n",
       "</tbody>\n",
       "</table>\n"
      ],
      "text/latex": [
       "\\begin{tabular}{r|ll}\n",
       " index.column & avg\\\\\n",
       "\\hline\n",
       "\t greater   & -5.421909\\\\\n",
       "\t less than &  1.418812\\\\\n",
       "\\end{tabular}\n"
      ],
      "text/markdown": [
       "\n",
       "index.column | avg | \n",
       "|---|---|\n",
       "| greater   | -5.421909 | \n",
       "| less than |  1.418812 | \n",
       "\n",
       "\n"
      ],
      "text/plain": [
       "  index.column avg      \n",
       "1 greater      -5.421909\n",
       "2 less than     1.418812"
      ]
     },
     "metadata": {},
     "output_type": "display_data"
    }
   ],
   "source": [
    "Z%>%mutate(index.column=ifelse(second.column>10, \"greater\", \"less than\"))%>%\n",
    "group_by(index.column)%>%summarise(avg=mean(transformed.column))"
   ]
  },
  {
   "cell_type": "markdown",
   "metadata": {},
   "source": [
    "#### ymd\n",
    "Ymd is a function that changes date objects into useable date objects. It's fantastic. You can now add and subtract dates, create sequences of dates, and generally treat them in intuitive ways. It's also part of a package called lubridate, which is a great name. "
   ]
  },
  {
   "cell_type": "code",
   "execution_count": 19,
   "metadata": {},
   "outputs": [
    {
     "data": {
      "text/html": [
       "<time datetime=\"2017-05-12\">2017-05-12</time>"
      ],
      "text/latex": [
       "2017-05-12"
      ],
      "text/markdown": [
       "2017-05-12"
      ],
      "text/plain": [
       "[1] \"2017-05-12\""
      ]
     },
     "metadata": {},
     "output_type": "display_data"
    },
    {
     "data": {
      "text/plain": [
       "Time difference of 7 days"
      ]
     },
     "metadata": {},
     "output_type": "display_data"
    },
    {
     "data": {
      "text/html": [
       "<ol class=list-inline>\n",
       "\t<li><time datetime=\"2017-05-12\">2017-05-12</time></li>\n",
       "\t<li><time datetime=\"2017-05-13\">2017-05-13</time></li>\n",
       "\t<li><time datetime=\"2017-05-14\">2017-05-14</time></li>\n",
       "\t<li><time datetime=\"2017-05-15\">2017-05-15</time></li>\n",
       "\t<li><time datetime=\"2017-05-16\">2017-05-16</time></li>\n",
       "\t<li><time datetime=\"2017-05-17\">2017-05-17</time></li>\n",
       "\t<li><time datetime=\"2017-05-18\">2017-05-18</time></li>\n",
       "\t<li><time datetime=\"2017-05-19\">2017-05-19</time></li>\n",
       "</ol>\n"
      ],
      "text/latex": [
       "\\begin{enumerate*}\n",
       "\\item 2017-05-12\n",
       "\\item 2017-05-13\n",
       "\\item 2017-05-14\n",
       "\\item 2017-05-15\n",
       "\\item 2017-05-16\n",
       "\\item 2017-05-17\n",
       "\\item 2017-05-18\n",
       "\\item 2017-05-19\n",
       "\\end{enumerate*}\n"
      ],
      "text/markdown": [
       "1. 2017-05-12\n",
       "2. 2017-05-13\n",
       "3. 2017-05-14\n",
       "4. 2017-05-15\n",
       "5. 2017-05-16\n",
       "6. 2017-05-17\n",
       "7. 2017-05-18\n",
       "8. 2017-05-19\n",
       "\n",
       "\n"
      ],
      "text/plain": [
       "[1] \"2017-05-12\" \"2017-05-13\" \"2017-05-14\" \"2017-05-15\" \"2017-05-16\"\n",
       "[6] \"2017-05-17\" \"2017-05-18\" \"2017-05-19\""
      ]
     },
     "metadata": {},
     "output_type": "display_data"
    }
   ],
   "source": [
    "date.a<-ymd(\"2017-05-12\")\n",
    "date.b<-ymd(\"2017-05-19\")\n",
    "date.a\n",
    "date.b-date.a\n",
    "seq(date.a, date.b, \"day\")"
   ]
  },
  {
   "cell_type": "markdown",
   "metadata": {},
   "source": [
    "#### left_join\n",
    "This function won't be new to anyone who has used database languages before and it figures quite heavily into many useful BigQuery queries, which are where M-lab data is stored, so understanding how joins works is a close to a necessity. I won't give a tutorial into them, I'll just say if you have data frames X and Y that share a column (say, the name of an employee) and you want add data from Y to X by matching on that column, you can do that with a join."
   ]
  },
  {
   "cell_type": "code",
   "execution_count": 20,
   "metadata": {},
   "outputs": [
    {
     "data": {
      "text/html": [
       "<table>\n",
       "<thead><tr><th scope=col>first.column</th><th scope=col>categories</th></tr></thead>\n",
       "<tbody>\n",
       "\t<tr><td>1</td><td>a</td></tr>\n",
       "\t<tr><td>2</td><td>a</td></tr>\n",
       "\t<tr><td>3</td><td>a</td></tr>\n",
       "\t<tr><td>4</td><td>b</td></tr>\n",
       "\t<tr><td>5</td><td>b</td></tr>\n",
       "</tbody>\n",
       "</table>\n"
      ],
      "text/latex": [
       "\\begin{tabular}{r|ll}\n",
       " first.column & categories\\\\\n",
       "\\hline\n",
       "\t 1 & a\\\\\n",
       "\t 2 & a\\\\\n",
       "\t 3 & a\\\\\n",
       "\t 4 & b\\\\\n",
       "\t 5 & b\\\\\n",
       "\\end{tabular}\n"
      ],
      "text/markdown": [
       "\n",
       "first.column | categories | \n",
       "|---|---|---|---|---|\n",
       "| 1 | a | \n",
       "| 2 | a | \n",
       "| 3 | a | \n",
       "| 4 | b | \n",
       "| 5 | b | \n",
       "\n",
       "\n"
      ],
      "text/plain": [
       "  first.column categories\n",
       "1 1            a         \n",
       "2 2            a         \n",
       "3 3            a         \n",
       "4 4            b         \n",
       "5 5            b         "
      ]
     },
     "metadata": {},
     "output_type": "display_data"
    },
    {
     "data": {
      "text/html": [
       "<table>\n",
       "<thead><tr><th scope=col>first.column</th><th scope=col>second.column</th><th scope=col>third.column</th><th scope=col>transformed.column</th></tr></thead>\n",
       "<tbody>\n",
       "\t<tr><td>1          </td><td> 1         </td><td> 0.3797593 </td><td>  0.4297593</td></tr>\n",
       "\t<tr><td>2          </td><td> 2         </td><td> 0.8734162 </td><td>  1.7968323</td></tr>\n",
       "\t<tr><td>3          </td><td> 3         </td><td> 0.4427871 </td><td>  1.3783613</td></tr>\n",
       "\t<tr><td>4          </td><td> 4         </td><td> 0.7031164 </td><td>  2.8624656</td></tr>\n",
       "\t<tr><td>5          </td><td> 5         </td><td> 0.1153284 </td><td>  0.6266419</td></tr>\n",
       "\t<tr><td>1          </td><td>11         </td><td>-0.3376468 </td><td> -3.6641144</td></tr>\n",
       "\t<tr><td>2          </td><td>12         </td><td> 0.3382315 </td><td>  4.1087782</td></tr>\n",
       "\t<tr><td>3          </td><td>13         </td><td>-1.6598457 </td><td>-21.5279941</td></tr>\n",
       "\t<tr><td>4          </td><td>14         </td><td> 0.1602044 </td><td>  2.2928613</td></tr>\n",
       "\t<tr><td>5          </td><td>15         </td><td>-0.5579384 </td><td> -8.3190754</td></tr>\n",
       "</tbody>\n",
       "</table>\n"
      ],
      "text/latex": [
       "\\begin{tabular}{r|llll}\n",
       " first.column & second.column & third.column & transformed.column\\\\\n",
       "\\hline\n",
       "\t 1           &  1          &  0.3797593  &   0.4297593\\\\\n",
       "\t 2           &  2          &  0.8734162  &   1.7968323\\\\\n",
       "\t 3           &  3          &  0.4427871  &   1.3783613\\\\\n",
       "\t 4           &  4          &  0.7031164  &   2.8624656\\\\\n",
       "\t 5           &  5          &  0.1153284  &   0.6266419\\\\\n",
       "\t 1           & 11          & -0.3376468  &  -3.6641144\\\\\n",
       "\t 2           & 12          &  0.3382315  &   4.1087782\\\\\n",
       "\t 3           & 13          & -1.6598457  & -21.5279941\\\\\n",
       "\t 4           & 14          &  0.1602044  &   2.2928613\\\\\n",
       "\t 5           & 15          & -0.5579384  &  -8.3190754\\\\\n",
       "\\end{tabular}\n"
      ],
      "text/markdown": [
       "\n",
       "first.column | second.column | third.column | transformed.column | \n",
       "|---|---|---|---|---|---|---|---|---|---|\n",
       "| 1           |  1          |  0.3797593  |   0.4297593 | \n",
       "| 2           |  2          |  0.8734162  |   1.7968323 | \n",
       "| 3           |  3          |  0.4427871  |   1.3783613 | \n",
       "| 4           |  4          |  0.7031164  |   2.8624656 | \n",
       "| 5           |  5          |  0.1153284  |   0.6266419 | \n",
       "| 1           | 11          | -0.3376468  |  -3.6641144 | \n",
       "| 2           | 12          |  0.3382315  |   4.1087782 | \n",
       "| 3           | 13          | -1.6598457  | -21.5279941 | \n",
       "| 4           | 14          |  0.1602044  |   2.2928613 | \n",
       "| 5           | 15          | -0.5579384  |  -8.3190754 | \n",
       "\n",
       "\n"
      ],
      "text/plain": [
       "   first.column second.column third.column transformed.column\n",
       "1  1             1             0.3797593     0.4297593       \n",
       "2  2             2             0.8734162     1.7968323       \n",
       "3  3             3             0.4427871     1.3783613       \n",
       "4  4             4             0.7031164     2.8624656       \n",
       "5  5             5             0.1153284     0.6266419       \n",
       "6  1            11            -0.3376468    -3.6641144       \n",
       "7  2            12             0.3382315     4.1087782       \n",
       "8  3            13            -1.6598457   -21.5279941       \n",
       "9  4            14             0.1602044     2.2928613       \n",
       "10 5            15            -0.5579384    -8.3190754       "
      ]
     },
     "metadata": {},
     "output_type": "display_data"
    },
    {
     "data": {
      "text/html": [
       "<table>\n",
       "<thead><tr><th scope=col>first.column</th><th scope=col>second.column</th><th scope=col>third.column</th><th scope=col>transformed.column</th><th scope=col>categories</th></tr></thead>\n",
       "<tbody>\n",
       "\t<tr><td>1          </td><td> 1         </td><td> 0.3797593 </td><td>  0.4297593</td><td>a          </td></tr>\n",
       "\t<tr><td>2          </td><td> 2         </td><td> 0.8734162 </td><td>  1.7968323</td><td>a          </td></tr>\n",
       "\t<tr><td>3          </td><td> 3         </td><td> 0.4427871 </td><td>  1.3783613</td><td>a          </td></tr>\n",
       "\t<tr><td>4          </td><td> 4         </td><td> 0.7031164 </td><td>  2.8624656</td><td>b          </td></tr>\n",
       "\t<tr><td>5          </td><td> 5         </td><td> 0.1153284 </td><td>  0.6266419</td><td>b          </td></tr>\n",
       "\t<tr><td>1          </td><td>11         </td><td>-0.3376468 </td><td> -3.6641144</td><td>a          </td></tr>\n",
       "\t<tr><td>2          </td><td>12         </td><td> 0.3382315 </td><td>  4.1087782</td><td>a          </td></tr>\n",
       "\t<tr><td>3          </td><td>13         </td><td>-1.6598457 </td><td>-21.5279941</td><td>a          </td></tr>\n",
       "\t<tr><td>4          </td><td>14         </td><td> 0.1602044 </td><td>  2.2928613</td><td>b          </td></tr>\n",
       "\t<tr><td>5          </td><td>15         </td><td>-0.5579384 </td><td> -8.3190754</td><td>b          </td></tr>\n",
       "</tbody>\n",
       "</table>\n"
      ],
      "text/latex": [
       "\\begin{tabular}{r|lllll}\n",
       " first.column & second.column & third.column & transformed.column & categories\\\\\n",
       "\\hline\n",
       "\t 1           &  1          &  0.3797593  &   0.4297593 & a          \\\\\n",
       "\t 2           &  2          &  0.8734162  &   1.7968323 & a          \\\\\n",
       "\t 3           &  3          &  0.4427871  &   1.3783613 & a          \\\\\n",
       "\t 4           &  4          &  0.7031164  &   2.8624656 & b          \\\\\n",
       "\t 5           &  5          &  0.1153284  &   0.6266419 & b          \\\\\n",
       "\t 1           & 11          & -0.3376468  &  -3.6641144 & a          \\\\\n",
       "\t 2           & 12          &  0.3382315  &   4.1087782 & a          \\\\\n",
       "\t 3           & 13          & -1.6598457  & -21.5279941 & a          \\\\\n",
       "\t 4           & 14          &  0.1602044  &   2.2928613 & b          \\\\\n",
       "\t 5           & 15          & -0.5579384  &  -8.3190754 & b          \\\\\n",
       "\\end{tabular}\n"
      ],
      "text/markdown": [
       "\n",
       "first.column | second.column | third.column | transformed.column | categories | \n",
       "|---|---|---|---|---|---|---|---|---|---|\n",
       "| 1           |  1          |  0.3797593  |   0.4297593 | a           | \n",
       "| 2           |  2          |  0.8734162  |   1.7968323 | a           | \n",
       "| 3           |  3          |  0.4427871  |   1.3783613 | a           | \n",
       "| 4           |  4          |  0.7031164  |   2.8624656 | b           | \n",
       "| 5           |  5          |  0.1153284  |   0.6266419 | b           | \n",
       "| 1           | 11          | -0.3376468  |  -3.6641144 | a           | \n",
       "| 2           | 12          |  0.3382315  |   4.1087782 | a           | \n",
       "| 3           | 13          | -1.6598457  | -21.5279941 | a           | \n",
       "| 4           | 14          |  0.1602044  |   2.2928613 | b           | \n",
       "| 5           | 15          | -0.5579384  |  -8.3190754 | b           | \n",
       "\n",
       "\n"
      ],
      "text/plain": [
       "   first.column second.column third.column transformed.column categories\n",
       "1  1             1             0.3797593     0.4297593        a         \n",
       "2  2             2             0.8734162     1.7968323        a         \n",
       "3  3             3             0.4427871     1.3783613        a         \n",
       "4  4             4             0.7031164     2.8624656        b         \n",
       "5  5             5             0.1153284     0.6266419        b         \n",
       "6  1            11            -0.3376468    -3.6641144        a         \n",
       "7  2            12             0.3382315     4.1087782        a         \n",
       "8  3            13            -1.6598457   -21.5279941        a         \n",
       "9  4            14             0.1602044     2.2928613        b         \n",
       "10 5            15            -0.5579384    -8.3190754        b         "
      ]
     },
     "metadata": {},
     "output_type": "display_data"
    }
   ],
   "source": [
    "W = data.frame(first.column=seq(1,5,1), categories=c(\"a\",\"a\",\"a\",\"b\",\"b\"))\n",
    "W\n",
    "Z\n",
    "Z.final<-left_join(Z, W, by = \"first.column\")\n",
    "Z.final"
   ]
  },
  {
   "cell_type": "markdown",
   "metadata": {},
   "source": [
    "#### ggplot\n",
    "Finally, we come to perhaps the most famous package in the tidyverse and certainly one of the most important. ggplot is the plotting package the tidyverse provides and it makes plotting in R a much more standardized affair. Every ggplot takes three inputs: data, an aesthetic mapping, and a geometry. In the abstract, that's confusing, but with some practice it simplifies the plotting process. The data part is clear. You need data to plot data. \n",
    "\n",
    "The aesthetic mapping refers to function aes(). In a broad sense, this function tells ggplot what should be the x and y axes, how to color things in, what line types should be assigned. What's nice is that each of these can be specified to vary by variable, making comparisons in graphs much easier. \n",
    "\n",
    "Lastly, the geometric element tells ggplot what kind of plot you'd like to see. geom_line does line plots, geom_bar does bar plots, geom_point does scatter plots. So on and so forth. \n",
    "\n",
    "This kind of flexible and modular plotting package means that by changing a single parameter in a plotting pipeline you can produce totally different graphs."
   ]
  },
  {
   "cell_type": "code",
   "execution_count": 21,
   "metadata": {},
   "outputs": [
    {
     "data": {},
     "metadata": {},
     "output_type": "display_data"
    },
    {
     "data": {},
     "metadata": {},
     "output_type": "display_data"
    },
    {
     "data": {
      "image/png": "[encoded data removed]",
      "text/plain": [
       "plot without title"
      ]
     },
     "metadata": {},
     "output_type": "display_data"
    },
    {
     "data": {
      "image/png": "[encoded data removed]",
      "text/plain": [
       "plot without title"
      ]
     },
     "metadata": {},
     "output_type": "display_data"
    }
   ],
   "source": [
    "Z.final%>%ggplot(aes(x = second.column, y = transformed.column, col=categories))+geom_line()\n",
    "Z.final%>%ggplot(aes(x = second.column, y = transformed.column, col=categories))+geom_point()"
   ]
  },
  {
   "cell_type": "markdown",
   "metadata": {},
   "source": [
    "## Conclusion\n",
    "And there's an amazingly brief tutorial to R. It covers the functions that are used in my M-lab data analysis tutorial and you can now hopefully follow along or copy/paste the commands in that tutorial in a way that's useful to your own research. If you have any questions feel free to reach out at nick.thieme5@gmail.com"
   ]
  }
 ],
 "metadata": {
  "kernelspec": {
   "display_name": "R",
   "language": "R",
   "name": "ir"
  },
  "language_info": {
   "codemirror_mode": "r",
   "file_extension": ".r",
   "mimetype": "text/x-r-source",
   "name": "R",
   "pygments_lexer": "r",
   "version": "3.3.3"
  }
 },
 "nbformat": 4,
 "nbformat_minor": 2
}
