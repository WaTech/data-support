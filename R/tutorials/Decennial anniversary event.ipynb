{
 "cells": [
  {
   "cell_type": "markdown",
   "metadata": {},
   "source": [
    "# Working with M-lab without knowing R\n",
    "## Decennial anniversary workshop"
   ]
  },
  {
   "cell_type": "markdown",
   "metadata": {},
   "source": [
    "This notebook goes along with a workshop on using M-lab data in R through Jupyter, and contains a lot of the same functionality as what's in the more comprehensive M-lab tutorial. What makes this notebook special is the ease-of-use. Even without understanding R or Jupyter, someone can use this code to produce visualizations of M-lab data for different countries, regions, and time periods. Those visualizations include line graphs of different quartiles, line graphs of the number of users per month, and choropleth maps of internet speeds in a given region. Enjoy!"
   ]
  },
  {
   "cell_type": "markdown",
   "metadata": {},
   "source": [
    "### Load libraries and packages\n",
    "As usual, the first cell in the notebook loads the needed R packages and defines the needed user functions. If you're copying this code locally, the library calls might fail the first time you run them. Instead, replace library() with install.packages() to install the desired packages. For a descrition of what these functions are actually doing, turn to the R tutorial and the R+M-lab tutorial."
   ]
  },
  {
   "cell_type": "code",
   "execution_count": 12,
   "metadata": {},
   "outputs": [],
   "source": [
    "library(tidyverse)\n",
    "library(lubridate)\n",
    "library(RColorBrewer)\n",
    "library(reshape2)\n",
    "library(bigrquery)\n",
    "library(viridis)\n",
    "library(tidycensus)\n",
    "library(sp)\n",
    "library(sf)"
   ]
  },
  {
   "cell_type": "code",
   "execution_count": 1,
   "metadata": {},
   "outputs": [],
   "source": [
    "project <- \"mlab-sandbox\"\n",
    "\n",
    "pull_ndt_data<-function(start_date, end_date, country_q, query=NULL, region=NULL, region.abv=NULL){\n",
    "  if(is.null(query)==TRUE){\n",
    "    if((is.null(region)==FALSE)&&(is.null(region.abv)==FALSE)==TRUE){\n",
    "      query <- \"#standardSQL\n",
    "      SELECT\n",
    "      ndt.log_time AS day,\n",
    "      ndt.connection_spec.client_ip AS ip,\n",
    "      ndt.connection_spec.client_geolocation.latitude AS lat,\n",
    "      ndt.connection_spec.client_geolocation.longitude AS lon,\n",
    "      8 * (ndt.web100_log_entry.snap.HCThruOctetsAcked /\n",
    "      (ndt.web100_log_entry.snap.SndLimTimeRwin +\n",
    "      ndt.web100_log_entry.snap.SndLimTimeCwnd +\n",
    "      ndt.web100_log_entry.snap.SndLimTimeSnd)) AS d_mps,\n",
    "      ndt.web100_log_entry.snap.MinRTT AS minRTT,\n",
    "      ndt.connection_spec.server_geolocation.city AS city,\n",
    "      ndt.connection_spec.client_geolocation.region AS client_region\n",
    "      FROM\n",
    "      `measurement-lab.release.ndt_downloads` AS ndt\n",
    "      WHERE\n",
    "      ndt.log_time BETWEEN DATE1 AND DATE2\n",
    "      AND\n",
    "      (\n",
    "      ndt.connection_spec.client_geolocation.region = REGION\n",
    "      OR ndt.connection_spec.client_geolocation.region = REGIONABV\n",
    "      )AND\n",
    "      connection_spec.client_geolocation.country_name = COUNTRY_NAME;\n",
    "      \"\n",
    "      D.return<-data.frame()\n",
    "      region.loc<-str_locate(query, \"REGION\")\n",
    "      region.fir<-str_sub(query, 1,region.loc[1]-1)\n",
    "      region.last<-str_sub(query, region.loc[2]+1, nchar(query))\n",
    "      region.q<-str_c(\"'\",region,\"'\")\n",
    "      query<-str_c(region.fir, region.q, region.last)\n",
    "      \n",
    "      region.abv.loc<-str_locate(query, \"REGIONABV\")\n",
    "      region.abv.fir<-str_sub(query, 1,region.abv.loc[1]-1)\n",
    "      region.abv.last<-str_sub(query, region.abv.loc[2]+1, nchar(query))\n",
    "      region.abv.q<-str_c(\"'\",region.abv,\"'\")\n",
    "      query<-str_c(region.abv.fir, region.abv.q, region.abv.last)\n",
    "      \n",
    "      \n",
    "    }else{\n",
    "      query <- \"#standardSQL\n",
    "    SELECT\n",
    "    ndt.log_time AS day,\n",
    "    ndt.connection_spec.client_ip AS ip,\n",
    "    ndt.connection_spec.client_geolocation.latitude AS lat,\n",
    "    ndt.connection_spec.client_geolocation.longitude AS lon,\n",
    "    8 * (ndt.web100_log_entry.snap.HCThruOctetsAcked /\n",
    "    (ndt.web100_log_entry.snap.SndLimTimeRwin +\n",
    "    ndt.web100_log_entry.snap.SndLimTimeCwnd +\n",
    "    ndt.web100_log_entry.snap.SndLimTimeSnd)) AS d_mps,\n",
    "    ndt.web100_log_entry.snap.MinRTT AS minRTT,\n",
    "    ndt.connection_spec.server_geolocation.city AS city,\n",
    "    ndt.connection_spec.client_geolocation.region AS client_region\n",
    "    FROM\n",
    "    `measurement-lab.release.ndt_downloads` AS ndt\n",
    "    WHERE\n",
    "    ndt.log_time BETWEEN DATE1 AND DATE2\n",
    "    AND\n",
    "    connection_spec.client_geolocation.country_name = COUNTRY_NAME;\n",
    "    \"\n",
    "    }\n",
    "  }else{\n",
    "    if((is.null(region)==FALSE)&&(is.null(region.abv)==FALSE)==TRUE){\n",
    "      D.return<-data.frame()\n",
    "      region.loc<-str_locate(query, \"region\")\n",
    "      region.fir<-str_sub(query, 1,region.loc[1]-1)\n",
    "      region.last<-str_sub(query, region.loc[2]+1, nchar(query))\n",
    "      query<-str_c(region.fir, region, region.last)\n",
    "      \n",
    "      region.abv.loc<-str_locate(query, \"REGIONABV\")\n",
    "      region.abv.fir<-str_sub(query, 1,region.abv.loc[1]-1)\n",
    "      region.abv.last<-str_sub(query, region.abv.loc[2]+1, nchar(query))\n",
    "      region.abv.q<-str_c(\"'\",region.abv,\"'\")\n",
    "      query<-str_c(region.abv.fir, region.abv.q, region.abv.last)\n",
    "    }\n",
    "  }\n",
    "  \n",
    "  \n",
    "  country.loc<-str_locate(query, \"COUNTRY_NAME\")\n",
    "  country.loc.fir<-str_sub(query, 1,country.loc[1]-1)\n",
    "  country.loc.last<-str_sub(query, country.loc[2]+1, nchar(query))\n",
    "  country_q<-str_c(\"'\",country_q,\"'\")\n",
    "  query<-str_c(country.loc.fir, country_q, country.loc.last)\n",
    "\n",
    "  start.query<-query\n",
    "\n",
    "  date_1<-start_date\n",
    "  date_2<-end_date\n",
    "  date_1b<-str_c(\"'\",date_1,\"'\")\n",
    "  date_2<-str_c(\"'\",date_2,\"'\")\n",
    "  \n",
    "  date.loc<-str_locate(query, \"DATE1\")\n",
    "  date.fir<-str_sub(query, 1,date.loc[1]-1)\n",
    "  date.last<-str_sub(query, date.loc[2]+1, nchar(query))\n",
    "  query<-str_c(date.fir, date_1b, date.last)\n",
    "  \n",
    "  date.loc<-str_locate(query, \"DATE2\")\n",
    "  date.fir<-str_sub(query, 1,date.loc[1]-1)\n",
    "  date.last<-str_sub(query, date.loc[2]+1, nchar(query))\n",
    "  query<-str_c(date.fir, date_2, date.last)\n",
    "  \n",
    "  todo_copies <- query_exec(query, project = project, use_legacy_sql=FALSE, max_pages = Inf)\n",
    "  todo_copies$day<-str_sub(todo_copies$day,1,7)\n",
    "  todo_copies$day<-parse_date_time(todo_copies$day, \"y-m\")\n",
    "\n",
    "  \n",
    "  return(todo_copies)\n",
    "  \n",
    "}\n",
    "iqr_plot <-function(D, cutoff_date, titles, D.to.join=NULL, labs){\n",
    "  D<-med.D<-D%>%group_by(ip, day)%>%summarise(\"num\"=median(d_mps))\n",
    "  res<-D%>%data.frame()%>%group_by(day)%>%\n",
    "    summarise(\"min\"=summary(num)[1],\"1q\"=summary(num)[2], \"med\"=summary(num)[3], \"mea\"=summary(num)[4],\n",
    "              \"3q\"=summary(num)[5], \"max\"=summary(num)[6], \"num\"=n())\n",
    "  res$day<-ymd(res$day)\n",
    "  \n",
    "  if(class(D.to.join)[1]!=\"NULL\"){\n",
    "    res1<-left_join(res, D.to.join)\n",
    "    res1<-res1%>%filter(day>ymd(cutoff_date))\n",
    "    var.l<-c(2,3,5,10)\n",
    "  }else{\n",
    "    res1<-res%>%filter(day>ymd(cutoff_date))\n",
    "    var.l<-c(2,3,5)\n",
    "  }\n",
    "  \n",
    "  res1<-melt(res1, variable.name = \"keys\", value.name = \"speeds\", id.vars = \"day\")\n",
    "  res1<-data.frame(\"day\"=ymd(res1$day), \"sum_type\"=as.factor(res1$keys), \"speed\"=as.numeric(res1$speeds))\n",
    "  \n",
    "  plasma_pal <- magma(5)[c(1,4,2)]\n",
    "  plasma_pal<-c(plasma_pal,alpha(c(\"#C0C0C0\",\"#C0C0C0\"),.7 ))\n",
    "  \n",
    "  res1%>%filter(sum_type%in%levels(res1$sum_type)[var.l])%>%ggplot(aes(x=day, y = speed, col=sum_type))+\n",
    "    geom_line(size =.6)+theme_scatter()+labs(x = \"Dates\", y = \"Mbps\",title = titles)+\n",
    "    scale_color_manual(values = plasma_pal, labels=labs, name=\"\")\n",
    "    \n",
    "}\n",
    "\n",
    "\n",
    "\n",
    "theme_scatter <- function(...) {\n",
    "  theme_minimal() +\n",
    "    theme(\n",
    "      text = element_text(family = \"Ubuntu Regular\", color = \"#22211d\"),\n",
    "      # panel.grid.minor = element_line(color = \"#ebebe5\", size = 0.2),\n",
    "      panel.grid.major = element_line(color = \"#ebebe5\", size = 0.2),\n",
    "      panel.grid.minor = element_blank(),\n",
    "      plot.background = element_rect(fill = \"#f5f5f2\", color = NA), \n",
    "      panel.background = element_rect(fill = \"#f5f5f2\", color = NA), \n",
    "      legend.background = element_rect(fill = \"#f5f5f2\", color = NA),\n",
    "      panel.border = element_blank(),\n",
    "      ...\n",
    "    )\n",
    "}\n",
    "\n",
    "theme_map <- function(...) {\n",
    "  theme_minimal() +\n",
    "    theme(\n",
    "      text = element_text(family = \"Ubuntu Regular\", color = \"#22211d\"),\n",
    "      axis.line = element_blank(),\n",
    "      axis.text.x = element_blank(),\n",
    "      axis.text.y = element_blank(),\n",
    "      axis.ticks = element_blank(),\n",
    "      axis.title.x = element_blank(),\n",
    "      axis.title.y = element_blank(),\n",
    "      # panel.grid.minor = element_line(color = \"#ebebe5\", size = 0.2),\n",
    "      panel.grid.major = element_line(color = \"#ebebe5\", size = 0.2),\n",
    "      panel.grid.minor = element_blank(),\n",
    "      plot.background = element_rect(fill = \"#f5f5f2\", color = NA), \n",
    "      panel.background = element_rect(fill = \"#f5f5f2\", color = NA), \n",
    "      legend.background = element_rect(fill = \"#f5f5f2\", color = NA),\n",
    "      panel.border = element_blank(),\n",
    "      ...\n",
    "    )\n",
    "}\n",
    "\n",
    "plot_users_per_month<-function(D, start_date,end_date){\n",
    "    D%>%group_by(day)%>%summarise(\"num\"=n())%>%ggplot(aes(x=ymd(day), y = num))+geom_line(color =\"gray25\")+\n",
    "xlim(start_date,end_date)+labs(x =\"Date\", y = \"Tests per month\", title=\"Tests per month\")+theme_scatter()\n",
    "\n",
    "}\n",
    "\n",
    "\n",
    "plot_speed_histogram<-function(D, max_speed, num_bins){\n",
    "    DD<-D%>%group_by(ip)%>%summarise(\"med\"=median(d_mps))\n",
    "    DD%>%ggplot(aes(med))+geom_histogram(bins=num_bins, color=\"gray25\")+xlim(0, max_speed)+labs(x =\"Median Mbps\", y = \"Number of IPs\", \n",
    "                                                                 title=\"What download speeds are most common?\")+theme_scatter()\n",
    "}\n",
    "\n",
    "map_prep<-function(D.map, quants, no_classes, NA_val){\n",
    "  cols_temp<-D.map$med\n",
    "  if(length(quants)==1){\n",
    "    labels <- c()\n",
    "    quantiles <- quantile(na.omit(cols_temp) , probs = seq(0, 1, length.out = no_classes + 1))\n",
    "    for(idx in 1:length(quantiles)){\n",
    "      labels <- c(labels, paste0(round(quantiles[idx], 2), \" - \", round(quantiles[idx + 1], 2)))\n",
    "    }\n",
    "    labels <- labels[1:length(labels)-1]\n",
    "    cols_temp <- cut(cols_temp, breaks = quantiles, labels = labels, include.lowest = T)\n",
    "  }else{\n",
    "    labels <- c()\n",
    "    for(idx in 1:length(quants)){\n",
    "      labels <- c(labels, paste0(round(quants[idx], 2), \" - \", round(quants[idx + 1], 2)))\n",
    "    }\n",
    "    labels <- labels[1:length(labels)-1]\n",
    "    cols_temp <- cut(cols_temp, breaks = quants, labels = labels, include.lowest = T)\n",
    "  }\n",
    "  \n",
    "  cols_temp<-`levels<-`(addNA(cols_temp), c(levels(cols_temp), NA_val))\n",
    "  \n",
    "  cols<-as.factor(cols_temp)\n",
    "  cols<- factor(cols, levels = levels(cols)[order(as.numeric(str_trim(lapply(str_split(levels(cols),\"-\"), function(x)return(x[[1]])))))])\n",
    "  \n",
    "  \n",
    "  plasma_pal <- c(viridis::magma(n = length(levels(cols))))\n",
    "  D.map$med<-cols\n",
    "  return(list(\"data\"=D.map, \"colors\"=plasma_pal))\n",
    "}\n",
    "\n",
    "                                                                             \n",
    "plot_map<-function(D,start_date,end_date, ST, TITLE, quant){                                                                                                                             \n",
    "    D.spatial<-D\n",
    "    D.spatial$lat<-as.numeric(as.character(D.spatial$lat))\n",
    "    D.spatial$lon<-as.numeric(as.character(D.spatial$lon))\n",
    "    coordinates(D.spatial)<- ~lon+lat\n",
    "    D.spatial<-as(D.spatial, \"sf\")\n",
    "\n",
    "    readRenviron(\"~/.Renviron\")\n",
    "    pop <- get_acs(geography = \"tract\",variables = \"B19013_001\",geometry=TRUE, cb=FALSE, state=ST)\n",
    "    st_crs(D.spatial)<-st_crs(pop)\n",
    "    D.joined<-st_join(D.spatial, pop)\n",
    "    D.joined.sum<-D.joined%>%data.frame%>%group_by(NAME,ip, day)%>%summarise(\"med\"=median(d_mps))\n",
    "\n",
    "    D.plot2<-D.joined.sum%>%data.frame%>%filter(ymd(day)%within%interval(ymd(start_date),ymd(end_date)))%>%\n",
    "      group_by(NAME,ip)%>%\n",
    "      summarise(\"med\"=median(med))%>%group_by(NAME)%>%summarise(\"med\"=median(med))%>%left_join(x=pop)%>%\n",
    "      map_prep(quants=quant, NA_val=\"NA\", no_classes=6)\n",
    "\n",
    "    num_title<-\"\"\n",
    "    num_subtitle<-TITLE\n",
    "\n",
    "    colors<-unique(D.plot2$colors)\n",
    "    colors<-c(viridis::magma(length(colors)-1), \"grey\")\n",
    "\n",
    "    D.plot2$data%>%ggplot(aes(fill=med, color=med))+geom_sf()+\n",
    "      scale_fill_manual(values=colors,drop=FALSE,name=\"Mbps\")+\n",
    "      scale_color_manual(values=colors,drop=FALSE,name=\"Mbps\")+\n",
    "      labs(title=num_title, subtitle=num_subtitle)+theme_map()\n",
    "}\n",
    "\n"
   ]
  },
  {
   "cell_type": "markdown",
   "metadata": {},
   "source": [
    "### Getting the data from BigQuery\n",
    "This function is a pretty readable tool that lets you get the data from a BigQuery table. It requires a starting date, ending date, and a country name. It can also be optionally supplied with a full query, a region name, and a region abbreviation. \n",
    "\n",
    "The output from this function can be sent straight into the other functions in this notebook to produce visualizations.\n",
    "\n",
    "Here we're starting by looking at a simple example of the internet speed in Vermont for the first four months of 2011."
   ]
  },
  {
   "cell_type": "code",
   "execution_count": 17,
   "metadata": {},
   "outputs": [
    {
     "name": "stderr",
     "output_type": "stream",
     "text": [
      "244.9 gigabytes processed\n"
     ]
    }
   ],
   "source": [
    "D<-pull_ndt_data(start_date=\"2011-01-01\", end_date=\"2011-05-01\", country_q=\"United States\",\n",
    "                 query=NULL, region=\"Vermont\", region.abv=\"VT\")"
   ]
  },
  {
   "cell_type": "markdown",
   "metadata": {},
   "source": [
    "### Making a line graph of the quartiles\n",
    "Here we turn the data pulled from BigQuery into a line graph that also contains information about how many people get particular speeds. This graph displays how the first and third quartiles, as well the median, change over time. \n",
    "\n",
    "Of these, the median value is the most familiar. It is the value where half of the data points have a greater value and half have a lesser value. Here it gives the middle point of internet speed. The first and third quartiles are related. Half of the measured internet speeds are faster than the median, and half are slower. Likewise, the first quartile is the internet speed that 1/4 of data points are slower than and 3/4 are faster than. The third quartile is the reverse: 3/4ths of the data have slower speeds than the third quartile and 1/4 have faster speeds. \n",
    "\n",
    "These values are all preferable over the mean because they don't let one extremely fast or extremely slow observation make the overall speeds look faster or slower than they really are. They're more faithful to the aggregate values people are interested in."
   ]
  },
  {
   "cell_type": "code",
   "execution_count": 19,
   "metadata": {},
   "outputs": [
    {
     "name": "stderr",
     "output_type": "stream",
     "text": [
      "Warning message:\n",
      "\"attributes are not identical across measure variables; they will be dropped\"Warning message in grid.Call(L_textBounds, as.graphicsAnnot(x$label), x$x, x$y, :\n",
      "\"font family not found in Windows font database\"Warning message in grid.Call(L_textBounds, as.graphicsAnnot(x$label), x$x, x$y, :\n",
      "\"font family not found in Windows font database\"Warning message in grid.Call(L_textBounds, as.graphicsAnnot(x$label), x$x, x$y, :\n",
      "\"font family not found in Windows font database\"Warning message in grid.Call(L_textBounds, as.graphicsAnnot(x$label), x$x, x$y, :\n",
      "\"font family not found in Windows font database\"Warning message in grid.Call(L_textBounds, as.graphicsAnnot(x$label), x$x, x$y, :\n",
      "\"font family not found in Windows font database\"Warning message in grid.Call(L_textBounds, as.graphicsAnnot(x$label), x$x, x$y, :\n",
      "\"font family not found in Windows font database\"Warning message in grid.Call(L_textBounds, as.graphicsAnnot(x$label), x$x, x$y, :\n",
      "\"font family not found in Windows font database\"Warning message in grid.Call(L_textBounds, as.graphicsAnnot(x$label), x$x, x$y, :\n",
      "\"font family not found in Windows font database\"Warning message in grid.Call(L_textBounds, as.graphicsAnnot(x$label), x$x, x$y, :\n",
      "\"font family not found in Windows font database\"Warning message in grid.Call(L_textBounds, as.graphicsAnnot(x$label), x$x, x$y, :\n",
      "\"font family not found in Windows font database\"Warning message in grid.Call(L_textBounds, as.graphicsAnnot(x$label), x$x, x$y, :\n",
      "\"font family not found in Windows font database\"Warning message in grid.Call(L_textBounds, as.graphicsAnnot(x$label), x$x, x$y, :\n",
      "\"font family not found in Windows font database\"Warning message in grid.Call.graphics(L_text, as.graphicsAnnot(x$label), x$x, x$y, :\n",
      "\"font family not found in Windows font database\"Warning message in grid.Call(L_textBounds, as.graphicsAnnot(x$label), x$x, x$y, :\n",
      "\"font family not found in Windows font database\"Warning message in grid.Call(L_textBounds, as.graphicsAnnot(x$label), x$x, x$y, :\n",
      "\"font family not found in Windows font database\""
     ]
    },
    {
     "data": {},
     "metadata": {},
     "output_type": "display_data"
    },
    {
     "data": {
      "image/png": "[encoded data removed]",
      "text/plain": [
       "plot without title"
      ]
     },
     "metadata": {},
     "output_type": "display_data"
    }
   ],
   "source": [
    "###Interquartile range\n",
    "iqr_plot(D=D,\n",
    "         cutoff_date = ymd(\"2010-01-01\"), \n",
    "         titles = \"Median download speed\",\n",
    "         labs =  c(\"First quartile PR\", \"Median PR\", \"Third quartile PR\",\"Median mainland US\"))\n"
   ]
  },
  {
   "cell_type": "markdown",
   "metadata": {},
   "source": [
    "### Seeing the number of users per month\n",
    "We might also be interested in knowing how many users are included in each time step above. The more users we have, the more confident we can be in the results. This function takes the same D as above and gives a visualization of that number over time."
   ]
  },
  {
   "cell_type": "code",
   "execution_count": 23,
   "metadata": {},
   "outputs": [
    {
     "name": "stderr",
     "output_type": "stream",
     "text": [
      "Warning message in grid.Call(L_textBounds, as.graphicsAnnot(x$label), x$x, x$y, :\n",
      "\"font family not found in Windows font database\"Warning message in grid.Call(L_textBounds, as.graphicsAnnot(x$label), x$x, x$y, :\n",
      "\"font family not found in Windows font database\"Warning message in grid.Call(L_textBounds, as.graphicsAnnot(x$label), x$x, x$y, :\n",
      "\"font family not found in Windows font database\"Warning message in grid.Call(L_textBounds, as.graphicsAnnot(x$label), x$x, x$y, :\n",
      "\"font family not found in Windows font database\"Warning message in grid.Call(L_textBounds, as.graphicsAnnot(x$label), x$x, x$y, :\n",
      "\"font family not found in Windows font database\"Warning message in grid.Call(L_textBounds, as.graphicsAnnot(x$label), x$x, x$y, :\n",
      "\"font family not found in Windows font database\"Warning message in grid.Call(L_textBounds, as.graphicsAnnot(x$label), x$x, x$y, :\n",
      "\"font family not found in Windows font database\"Warning message in grid.Call(L_textBounds, as.graphicsAnnot(x$label), x$x, x$y, :\n",
      "\"font family not found in Windows font database\"Warning message in grid.Call(L_textBounds, as.graphicsAnnot(x$label), x$x, x$y, :\n",
      "\"font family not found in Windows font database\"Warning message in grid.Call(L_textBounds, as.graphicsAnnot(x$label), x$x, x$y, :\n",
      "\"font family not found in Windows font database\"Warning message in grid.Call.graphics(L_text, as.graphicsAnnot(x$label), x$x, x$y, :\n",
      "\"font family not found in Windows font database\"Warning message in grid.Call(L_textBounds, as.graphicsAnnot(x$label), x$x, x$y, :\n",
      "\"font family not found in Windows font database\""
     ]
    },
    {
     "data": {},
     "metadata": {},
     "output_type": "display_data"
    },
    {
     "data": {
      "image/png": "[encoded data removed]",
      "text/plain": [
       "plot without title"
      ]
     },
     "metadata": {},
     "output_type": "display_data"
    }
   ],
   "source": [
    "plot_users_per_month(D, ymd(\"2011-01-01\"), ymd(\"2011-04-01\"))+ ylim(0,1000)"
   ]
  },
  {
   "cell_type": "markdown",
   "metadata": {},
   "source": [
    "### Viewing which speeds are most common\n",
    "Another useful plot for getting a sense of what the internet speeds in an area look like is a histogram. Histograms describe the distribution of the data and describe inequalities better than many other visualization types.\n",
    "\n",
    "The function below takes the output of the data pull above and produces a histogram of the speeds."
   ]
  },
  {
   "cell_type": "code",
   "execution_count": 25,
   "metadata": {},
   "outputs": [
    {
     "name": "stderr",
     "output_type": "stream",
     "text": [
      "Warning message:\n",
      "\"Removed 1 rows containing non-finite values (stat_bin).\"Warning message in grid.Call(L_textBounds, as.graphicsAnnot(x$label), x$x, x$y, :\n",
      "\"font family not found in Windows font database\"Warning message in grid.Call(L_textBounds, as.graphicsAnnot(x$label), x$x, x$y, :\n",
      "\"font family not found in Windows font database\"Warning message in grid.Call(L_textBounds, as.graphicsAnnot(x$label), x$x, x$y, :\n",
      "\"font family not found in Windows font database\"Warning message in grid.Call(L_textBounds, as.graphicsAnnot(x$label), x$x, x$y, :\n",
      "\"font family not found in Windows font database\"Warning message in grid.Call(L_textBounds, as.graphicsAnnot(x$label), x$x, x$y, :\n",
      "\"font family not found in Windows font database\"Warning message in grid.Call(L_textBounds, as.graphicsAnnot(x$label), x$x, x$y, :\n",
      "\"font family not found in Windows font database\"Warning message in grid.Call(L_textBounds, as.graphicsAnnot(x$label), x$x, x$y, :\n",
      "\"font family not found in Windows font database\"Warning message in grid.Call(L_textBounds, as.graphicsAnnot(x$label), x$x, x$y, :\n",
      "\"font family not found in Windows font database\"Warning message in grid.Call(L_textBounds, as.graphicsAnnot(x$label), x$x, x$y, :\n",
      "\"font family not found in Windows font database\"Warning message in grid.Call(L_textBounds, as.graphicsAnnot(x$label), x$x, x$y, :\n",
      "\"font family not found in Windows font database\"Warning message in grid.Call.graphics(L_text, as.graphicsAnnot(x$label), x$x, x$y, :\n",
      "\"font family not found in Windows font database\"Warning message in grid.Call(L_textBounds, as.graphicsAnnot(x$label), x$x, x$y, :\n",
      "\"font family not found in Windows font database\""
     ]
    },
    {
     "data": {},
     "metadata": {},
     "output_type": "display_data"
    },
    {
     "data": {
      "image/png": "[encoded data removed]",
      "text/plain": [
       "plot without title"
      ]
     },
     "metadata": {},
     "output_type": "display_data"
    }
   ],
   "source": [
    "plot_speed_histogram(D, 50,200)"
   ]
  },
  {
   "cell_type": "markdown",
   "metadata": {},
   "source": [
    "### Making a choropleth map\n",
    "M-lab data natually has a spatial component to it. Oftentimes, that's the most interesting question. What does the internet look like in this region? A choropleth map is a natural answer to this question. Though they can be misleading if used improperly, they're powerful when used correctly. \n",
    "\n",
    "The function below takes in a date range and a region (which should correspond to the region above) and it produces a colored map where the colors represent the internet speeds in those areas."
   ]
  },
  {
   "cell_type": "code",
   "execution_count": 40,
   "metadata": {},
   "outputs": [
    {
     "name": "stderr",
     "output_type": "stream",
     "text": [
      "Getting data from the 2012-2016 5-year ACS\n",
      "Downloading feature geometry from the Census website.  To cache shapefiles for use in future sessions, set `options(tigris_use_cache = TRUE)`.\n",
      "although coordinates are longitude/latitude, st_intersects assumes that they are planar\n",
      "Joining, by = \"NAME\"\n",
      "Warning message in order(as.numeric(str_trim(lapply(str_split(levels(cols), \"-\"), :\n",
      "\"NAs introduced by coercion\"Warning message in grid.Call(L_textBounds, as.graphicsAnnot(x$label), x$x, x$y, :\n",
      "\"font family not found in Windows font database\"Warning message in grid.Call(L_textBounds, as.graphicsAnnot(x$label), x$x, x$y, :\n",
      "\"font family not found in Windows font database\"Warning message in grid.Call(L_textBounds, as.graphicsAnnot(x$label), x$x, x$y, :\n",
      "\"font family not found in Windows font database\"Warning message in grid.Call(L_textBounds, as.graphicsAnnot(x$label), x$x, x$y, :\n",
      "\"font family not found in Windows font database\"Warning message in grid.Call(L_textBounds, as.graphicsAnnot(x$label), x$x, x$y, :\n",
      "\"font family not found in Windows font database\"Warning message in grid.Call(L_textBounds, as.graphicsAnnot(x$label), x$x, x$y, :\n",
      "\"font family not found in Windows font database\"Warning message in grid.Call(L_textBounds, as.graphicsAnnot(x$label), x$x, x$y, :\n",
      "\"font family not found in Windows font database\"Warning message in grid.Call(L_textBounds, as.graphicsAnnot(x$label), x$x, x$y, :\n",
      "\"font family not found in Windows font database\"Warning message in grid.Call(L_textBounds, as.graphicsAnnot(x$label), x$x, x$y, :\n",
      "\"font family not found in Windows font database\""
     ]
    },
    {
     "data": {},
     "metadata": {},
     "output_type": "display_data"
    },
    {
     "data": {
      "image/png": "[encoded data removed]",
      "text/plain": [
       "plot without title"
      ]
     },
     "metadata": {},
     "output_type": "display_data"
    }
   ],
   "source": [
    "plot_map(D, \"2009-01-01\",\"2018-01-01\",\"VT\",\"Map of the internet speed in Vermont\", quant=1)"
   ]
  }
 ],
 "metadata": {
  "kernelspec": {
   "display_name": "R",
   "language": "R",
   "name": "ir"
  },
  "language_info": {
   "codemirror_mode": "r",
   "file_extension": ".r",
   "mimetype": "text/x-r-source",
   "name": "R",
   "pygments_lexer": "r",
   "version": "3.3.3"
  }
 },
 "nbformat": 4,
 "nbformat_minor": 2
}
